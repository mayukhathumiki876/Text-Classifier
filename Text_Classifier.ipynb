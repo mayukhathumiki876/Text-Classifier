{
  "nbformat": 4,
  "nbformat_minor": 0,
  "metadata": {
    "colab": {
      "provenance": [],
      "collapsed_sections": [
        "bXn0zBCSjxfs",
        "1P79DHiKjVi1",
        "2dUUtBZ9jkmg",
        "rV-p5ZPagA_j",
        "lc45g2gygX6-",
        "C-X5SbSEgG7D",
        "sJZMvENDknIn",
        "EpnV6Cuhkwrd",
        "PkM-zpqamK0_",
        "wDqilOVIeMgY",
        "D1v2Cu-4hBss"
      ]
    },
    "kernelspec": {
      "name": "python3",
      "display_name": "Python 3"
    },
    "language_info": {
      "name": "python"
    }
  },
  "cells": [
    {
      "cell_type": "markdown",
      "source": [
        "#Text Classifier using Naive Bayes Theorem"
      ],
      "metadata": {
        "id": "I0zh0r0eoYwI"
      }
    },
    {
      "cell_type": "markdown",
      "source": [
        "####Name: Mayukha Thumiki\n",
        "####UTA ID: 1002055616"
      ],
      "metadata": {
        "id": "RYaafCrkoeUW"
      }
    },
    {
      "cell_type": "markdown",
      "source": [
        "###References:\n",
        "#####https://stackoverflow.com/questions/22588316/pandas-applying-regex-to-replace-values\n",
        "#####https://scikit-learn.org/stable/modules/generated/sklearn.model_selection.train_test_split.html\n",
        "#####https://www.machinelearningplus.com/nlp/lemmatization-examples-python/\n",
        "#####https://stackoverflow.com/questions/65413876/removing-stopwords-from-list-of-lists\n",
        "#####https://karthikvadloori.wixsite.com/home/post/text-classifier-ford-sentence-classification-using-nbc\n",
        "#####https://medium.com/@rangavamsi5/na%C3%AFve-bayes-algorithm-implementation-from-scratch-in-python-7b2cc39268b9\n",
        "#####https://www.kaggle.com/code/hamishisham/sentiment-analysis-using-sentiwordnet-updated/notebook\n",
        "#####https://pandas.pydata.org/docs/reference/api/pandas.DataFrame.add.html\n",
        "#####https://docs.scipy.org/doc/scipy/reference/generated/scipy.stats.wilcoxon.html"
      ],
      "metadata": {
        "id": "ySGA2-6CcBB2"
      }
    },
    {
      "cell_type": "markdown",
      "source": [
        "###Importing libraries"
      ],
      "metadata": {
        "id": "bXn0zBCSjxfs"
      }
    },
    {
      "cell_type": "code",
      "execution_count": 1,
      "metadata": {
        "id": "UItEuQ6HjD9u"
      },
      "outputs": [],
      "source": [
        "import numpy as np\n",
        "import matplotlib.pyplot as plt\n",
        "import pandas as pd\n",
        "import math\n",
        "\n",
        "from google.colab import drive\n",
        "from sklearn.model_selection import train_test_split\n",
        "\n",
        "import numpy as np\n",
        "import nltk\n",
        "from nltk import FreqDist\n",
        "from nltk.stem import WordNetLemmatizer\n",
        "from nltk.corpus import gutenberg\n",
        "from nltk.stem import WordNetLemmatizer\n",
        "from nltk.probability import FreqDist\n",
        "from nltk.corpus import stopwords\n",
        "from typing import List, Dict, Tuple\n",
        "import itertools\n",
        "\n",
        "from sklearn.metrics import classification_report, confusion_matrix, accuracy_score\n",
        "from sklearn.metrics import classification_report as cr\n",
        "from sklearn.metrics import confusion_matrix as cm"
      ]
    },
    {
      "cell_type": "code",
      "source": [
        "drive.mount('/content/gdrive')"
      ],
      "metadata": {
        "colab": {
          "base_uri": "https://localhost:8080/"
        },
        "id": "yypYMKNnjMVV",
        "outputId": "e7f3e997-d9f1-4b6f-c176-45ea33d78c4d"
      },
      "execution_count": 2,
      "outputs": [
        {
          "output_type": "stream",
          "name": "stdout",
          "text": [
            "Mounted at /content/gdrive\n"
          ]
        }
      ]
    },
    {
      "cell_type": "markdown",
      "source": [
        "###Understanding the dataset"
      ],
      "metadata": {
        "id": "1P79DHiKjVi1"
      }
    },
    {
      "cell_type": "code",
      "source": [
        "movie_data = pd.read_csv('/content/gdrive/MyDrive/NBC/rt_reviews.csv', encoding='latin1')"
      ],
      "metadata": {
        "id": "Iexp1qC2jObw"
      },
      "execution_count": 3,
      "outputs": []
    },
    {
      "cell_type": "code",
      "source": [
        "movie_data.head()"
      ],
      "metadata": {
        "colab": {
          "base_uri": "https://localhost:8080/",
          "height": 206
        },
        "id": "o6lvSrCXjRc_",
        "outputId": "57c4fd18-d69b-4f4c-f204-75831d3efaf4"
      },
      "execution_count": 4,
      "outputs": [
        {
          "output_type": "execute_result",
          "data": {
            "text/plain": [
              "  Freshness                                             Review\n",
              "0     fresh   Manakamana doesn't answer any questions, yet ...\n",
              "1     fresh   Wilfully offensive and powered by a chest-thu...\n",
              "2    rotten   It would be difficult to imagine material mor...\n",
              "3    rotten   Despite the gusto its star brings to the role...\n",
              "4    rotten   If there was a good idea at the core of this ..."
            ],
            "text/html": [
              "\n",
              "  <div id=\"df-718ec41e-50e7-4468-b592-89453ecb100c\">\n",
              "    <div class=\"colab-df-container\">\n",
              "      <div>\n",
              "<style scoped>\n",
              "    .dataframe tbody tr th:only-of-type {\n",
              "        vertical-align: middle;\n",
              "    }\n",
              "\n",
              "    .dataframe tbody tr th {\n",
              "        vertical-align: top;\n",
              "    }\n",
              "\n",
              "    .dataframe thead th {\n",
              "        text-align: right;\n",
              "    }\n",
              "</style>\n",
              "<table border=\"1\" class=\"dataframe\">\n",
              "  <thead>\n",
              "    <tr style=\"text-align: right;\">\n",
              "      <th></th>\n",
              "      <th>Freshness</th>\n",
              "      <th>Review</th>\n",
              "    </tr>\n",
              "  </thead>\n",
              "  <tbody>\n",
              "    <tr>\n",
              "      <th>0</th>\n",
              "      <td>fresh</td>\n",
              "      <td>Manakamana doesn't answer any questions, yet ...</td>\n",
              "    </tr>\n",
              "    <tr>\n",
              "      <th>1</th>\n",
              "      <td>fresh</td>\n",
              "      <td>Wilfully offensive and powered by a chest-thu...</td>\n",
              "    </tr>\n",
              "    <tr>\n",
              "      <th>2</th>\n",
              "      <td>rotten</td>\n",
              "      <td>It would be difficult to imagine material mor...</td>\n",
              "    </tr>\n",
              "    <tr>\n",
              "      <th>3</th>\n",
              "      <td>rotten</td>\n",
              "      <td>Despite the gusto its star brings to the role...</td>\n",
              "    </tr>\n",
              "    <tr>\n",
              "      <th>4</th>\n",
              "      <td>rotten</td>\n",
              "      <td>If there was a good idea at the core of this ...</td>\n",
              "    </tr>\n",
              "  </tbody>\n",
              "</table>\n",
              "</div>\n",
              "      <button class=\"colab-df-convert\" onclick=\"convertToInteractive('df-718ec41e-50e7-4468-b592-89453ecb100c')\"\n",
              "              title=\"Convert this dataframe to an interactive table.\"\n",
              "              style=\"display:none;\">\n",
              "        \n",
              "  <svg xmlns=\"http://www.w3.org/2000/svg\" height=\"24px\"viewBox=\"0 0 24 24\"\n",
              "       width=\"24px\">\n",
              "    <path d=\"M0 0h24v24H0V0z\" fill=\"none\"/>\n",
              "    <path d=\"M18.56 5.44l.94 2.06.94-2.06 2.06-.94-2.06-.94-.94-2.06-.94 2.06-2.06.94zm-11 1L8.5 8.5l.94-2.06 2.06-.94-2.06-.94L8.5 2.5l-.94 2.06-2.06.94zm10 10l.94 2.06.94-2.06 2.06-.94-2.06-.94-.94-2.06-.94 2.06-2.06.94z\"/><path d=\"M17.41 7.96l-1.37-1.37c-.4-.4-.92-.59-1.43-.59-.52 0-1.04.2-1.43.59L10.3 9.45l-7.72 7.72c-.78.78-.78 2.05 0 2.83L4 21.41c.39.39.9.59 1.41.59.51 0 1.02-.2 1.41-.59l7.78-7.78 2.81-2.81c.8-.78.8-2.07 0-2.86zM5.41 20L4 18.59l7.72-7.72 1.47 1.35L5.41 20z\"/>\n",
              "  </svg>\n",
              "      </button>\n",
              "      \n",
              "  <style>\n",
              "    .colab-df-container {\n",
              "      display:flex;\n",
              "      flex-wrap:wrap;\n",
              "      gap: 12px;\n",
              "    }\n",
              "\n",
              "    .colab-df-convert {\n",
              "      background-color: #E8F0FE;\n",
              "      border: none;\n",
              "      border-radius: 50%;\n",
              "      cursor: pointer;\n",
              "      display: none;\n",
              "      fill: #1967D2;\n",
              "      height: 32px;\n",
              "      padding: 0 0 0 0;\n",
              "      width: 32px;\n",
              "    }\n",
              "\n",
              "    .colab-df-convert:hover {\n",
              "      background-color: #E2EBFA;\n",
              "      box-shadow: 0px 1px 2px rgba(60, 64, 67, 0.3), 0px 1px 3px 1px rgba(60, 64, 67, 0.15);\n",
              "      fill: #174EA6;\n",
              "    }\n",
              "\n",
              "    [theme=dark] .colab-df-convert {\n",
              "      background-color: #3B4455;\n",
              "      fill: #D2E3FC;\n",
              "    }\n",
              "\n",
              "    [theme=dark] .colab-df-convert:hover {\n",
              "      background-color: #434B5C;\n",
              "      box-shadow: 0px 1px 3px 1px rgba(0, 0, 0, 0.15);\n",
              "      filter: drop-shadow(0px 1px 2px rgba(0, 0, 0, 0.3));\n",
              "      fill: #FFFFFF;\n",
              "    }\n",
              "  </style>\n",
              "\n",
              "      <script>\n",
              "        const buttonEl =\n",
              "          document.querySelector('#df-718ec41e-50e7-4468-b592-89453ecb100c button.colab-df-convert');\n",
              "        buttonEl.style.display =\n",
              "          google.colab.kernel.accessAllowed ? 'block' : 'none';\n",
              "\n",
              "        async function convertToInteractive(key) {\n",
              "          const element = document.querySelector('#df-718ec41e-50e7-4468-b592-89453ecb100c');\n",
              "          const dataTable =\n",
              "            await google.colab.kernel.invokeFunction('convertToInteractive',\n",
              "                                                     [key], {});\n",
              "          if (!dataTable) return;\n",
              "\n",
              "          const docLinkHtml = 'Like what you see? Visit the ' +\n",
              "            '<a target=\"_blank\" href=https://colab.research.google.com/notebooks/data_table.ipynb>data table notebook</a>'\n",
              "            + ' to learn more about interactive tables.';\n",
              "          element.innerHTML = '';\n",
              "          dataTable['output_type'] = 'display_data';\n",
              "          await google.colab.output.renderOutput(dataTable, element);\n",
              "          const docLink = document.createElement('div');\n",
              "          docLink.innerHTML = docLinkHtml;\n",
              "          element.appendChild(docLink);\n",
              "        }\n",
              "      </script>\n",
              "    </div>\n",
              "  </div>\n",
              "  "
            ]
          },
          "metadata": {},
          "execution_count": 4
        }
      ]
    },
    {
      "cell_type": "code",
      "source": [
        "print(movie_data.shape)"
      ],
      "metadata": {
        "colab": {
          "base_uri": "https://localhost:8080/"
        },
        "id": "IrHuppnKjYtU",
        "outputId": "f26ce678-6688-4b7d-fc28-9ca643d80482"
      },
      "execution_count": 5,
      "outputs": [
        {
          "output_type": "stream",
          "name": "stdout",
          "text": [
            "(480000, 2)\n"
          ]
        }
      ]
    },
    {
      "cell_type": "code",
      "source": [
        "movie_data.info()"
      ],
      "metadata": {
        "colab": {
          "base_uri": "https://localhost:8080/"
        },
        "id": "PbCr95ZujZ0C",
        "outputId": "8e143655-7f73-4bb7-f83f-d87fd141be27"
      },
      "execution_count": 6,
      "outputs": [
        {
          "output_type": "stream",
          "name": "stdout",
          "text": [
            "<class 'pandas.core.frame.DataFrame'>\n",
            "RangeIndex: 480000 entries, 0 to 479999\n",
            "Data columns (total 2 columns):\n",
            " #   Column     Non-Null Count   Dtype \n",
            "---  ------     --------------   ----- \n",
            " 0   Freshness  480000 non-null  object\n",
            " 1   Review     480000 non-null  object\n",
            "dtypes: object(2)\n",
            "memory usage: 7.3+ MB\n"
          ]
        }
      ]
    },
    {
      "cell_type": "code",
      "source": [
        "movie_data.isnull().any()"
      ],
      "metadata": {
        "colab": {
          "base_uri": "https://localhost:8080/"
        },
        "id": "SHJRmnQija7m",
        "outputId": "b051e62a-c204-4668-d306-245581f838b5"
      },
      "execution_count": 7,
      "outputs": [
        {
          "output_type": "execute_result",
          "data": {
            "text/plain": [
              "Freshness    False\n",
              "Review       False\n",
              "dtype: bool"
            ]
          },
          "metadata": {},
          "execution_count": 7
        }
      ]
    },
    {
      "cell_type": "code",
      "source": [
        "movie_data.reset_index(inplace=True)\n",
        "movie_data.head(10)"
      ],
      "metadata": {
        "colab": {
          "base_uri": "https://localhost:8080/",
          "height": 363
        },
        "id": "cJXniDx1jcX1",
        "outputId": "2ed41a7f-8919-418a-fad7-2f763b2bed9a"
      },
      "execution_count": 8,
      "outputs": [
        {
          "output_type": "execute_result",
          "data": {
            "text/plain": [
              "   index Freshness                                             Review\n",
              "0      0     fresh   Manakamana doesn't answer any questions, yet ...\n",
              "1      1     fresh   Wilfully offensive and powered by a chest-thu...\n",
              "2      2    rotten   It would be difficult to imagine material mor...\n",
              "3      3    rotten   Despite the gusto its star brings to the role...\n",
              "4      4    rotten   If there was a good idea at the core of this ...\n",
              "5      5    rotten   Gleeson goes the Hallmark Channel route, dama...\n",
              "6      6     fresh   It was the height of satire in 1976: dark as ...\n",
              "7      7    rotten   Everyone in \"The Comedian\" deserves a better ...\n",
              "8      8    rotten   Actor encourages grumpy Christians to embrace...\n",
              "9      9     fresh          Slight, contained, but ineffably soulful."
            ],
            "text/html": [
              "\n",
              "  <div id=\"df-d9af184c-3e89-4334-a089-17567e4878b6\">\n",
              "    <div class=\"colab-df-container\">\n",
              "      <div>\n",
              "<style scoped>\n",
              "    .dataframe tbody tr th:only-of-type {\n",
              "        vertical-align: middle;\n",
              "    }\n",
              "\n",
              "    .dataframe tbody tr th {\n",
              "        vertical-align: top;\n",
              "    }\n",
              "\n",
              "    .dataframe thead th {\n",
              "        text-align: right;\n",
              "    }\n",
              "</style>\n",
              "<table border=\"1\" class=\"dataframe\">\n",
              "  <thead>\n",
              "    <tr style=\"text-align: right;\">\n",
              "      <th></th>\n",
              "      <th>index</th>\n",
              "      <th>Freshness</th>\n",
              "      <th>Review</th>\n",
              "    </tr>\n",
              "  </thead>\n",
              "  <tbody>\n",
              "    <tr>\n",
              "      <th>0</th>\n",
              "      <td>0</td>\n",
              "      <td>fresh</td>\n",
              "      <td>Manakamana doesn't answer any questions, yet ...</td>\n",
              "    </tr>\n",
              "    <tr>\n",
              "      <th>1</th>\n",
              "      <td>1</td>\n",
              "      <td>fresh</td>\n",
              "      <td>Wilfully offensive and powered by a chest-thu...</td>\n",
              "    </tr>\n",
              "    <tr>\n",
              "      <th>2</th>\n",
              "      <td>2</td>\n",
              "      <td>rotten</td>\n",
              "      <td>It would be difficult to imagine material mor...</td>\n",
              "    </tr>\n",
              "    <tr>\n",
              "      <th>3</th>\n",
              "      <td>3</td>\n",
              "      <td>rotten</td>\n",
              "      <td>Despite the gusto its star brings to the role...</td>\n",
              "    </tr>\n",
              "    <tr>\n",
              "      <th>4</th>\n",
              "      <td>4</td>\n",
              "      <td>rotten</td>\n",
              "      <td>If there was a good idea at the core of this ...</td>\n",
              "    </tr>\n",
              "    <tr>\n",
              "      <th>5</th>\n",
              "      <td>5</td>\n",
              "      <td>rotten</td>\n",
              "      <td>Gleeson goes the Hallmark Channel route, dama...</td>\n",
              "    </tr>\n",
              "    <tr>\n",
              "      <th>6</th>\n",
              "      <td>6</td>\n",
              "      <td>fresh</td>\n",
              "      <td>It was the height of satire in 1976: dark as ...</td>\n",
              "    </tr>\n",
              "    <tr>\n",
              "      <th>7</th>\n",
              "      <td>7</td>\n",
              "      <td>rotten</td>\n",
              "      <td>Everyone in \"The Comedian\" deserves a better ...</td>\n",
              "    </tr>\n",
              "    <tr>\n",
              "      <th>8</th>\n",
              "      <td>8</td>\n",
              "      <td>rotten</td>\n",
              "      <td>Actor encourages grumpy Christians to embrace...</td>\n",
              "    </tr>\n",
              "    <tr>\n",
              "      <th>9</th>\n",
              "      <td>9</td>\n",
              "      <td>fresh</td>\n",
              "      <td>Slight, contained, but ineffably soulful.</td>\n",
              "    </tr>\n",
              "  </tbody>\n",
              "</table>\n",
              "</div>\n",
              "      <button class=\"colab-df-convert\" onclick=\"convertToInteractive('df-d9af184c-3e89-4334-a089-17567e4878b6')\"\n",
              "              title=\"Convert this dataframe to an interactive table.\"\n",
              "              style=\"display:none;\">\n",
              "        \n",
              "  <svg xmlns=\"http://www.w3.org/2000/svg\" height=\"24px\"viewBox=\"0 0 24 24\"\n",
              "       width=\"24px\">\n",
              "    <path d=\"M0 0h24v24H0V0z\" fill=\"none\"/>\n",
              "    <path d=\"M18.56 5.44l.94 2.06.94-2.06 2.06-.94-2.06-.94-.94-2.06-.94 2.06-2.06.94zm-11 1L8.5 8.5l.94-2.06 2.06-.94-2.06-.94L8.5 2.5l-.94 2.06-2.06.94zm10 10l.94 2.06.94-2.06 2.06-.94-2.06-.94-.94-2.06-.94 2.06-2.06.94z\"/><path d=\"M17.41 7.96l-1.37-1.37c-.4-.4-.92-.59-1.43-.59-.52 0-1.04.2-1.43.59L10.3 9.45l-7.72 7.72c-.78.78-.78 2.05 0 2.83L4 21.41c.39.39.9.59 1.41.59.51 0 1.02-.2 1.41-.59l7.78-7.78 2.81-2.81c.8-.78.8-2.07 0-2.86zM5.41 20L4 18.59l7.72-7.72 1.47 1.35L5.41 20z\"/>\n",
              "  </svg>\n",
              "      </button>\n",
              "      \n",
              "  <style>\n",
              "    .colab-df-container {\n",
              "      display:flex;\n",
              "      flex-wrap:wrap;\n",
              "      gap: 12px;\n",
              "    }\n",
              "\n",
              "    .colab-df-convert {\n",
              "      background-color: #E8F0FE;\n",
              "      border: none;\n",
              "      border-radius: 50%;\n",
              "      cursor: pointer;\n",
              "      display: none;\n",
              "      fill: #1967D2;\n",
              "      height: 32px;\n",
              "      padding: 0 0 0 0;\n",
              "      width: 32px;\n",
              "    }\n",
              "\n",
              "    .colab-df-convert:hover {\n",
              "      background-color: #E2EBFA;\n",
              "      box-shadow: 0px 1px 2px rgba(60, 64, 67, 0.3), 0px 1px 3px 1px rgba(60, 64, 67, 0.15);\n",
              "      fill: #174EA6;\n",
              "    }\n",
              "\n",
              "    [theme=dark] .colab-df-convert {\n",
              "      background-color: #3B4455;\n",
              "      fill: #D2E3FC;\n",
              "    }\n",
              "\n",
              "    [theme=dark] .colab-df-convert:hover {\n",
              "      background-color: #434B5C;\n",
              "      box-shadow: 0px 1px 3px 1px rgba(0, 0, 0, 0.15);\n",
              "      filter: drop-shadow(0px 1px 2px rgba(0, 0, 0, 0.3));\n",
              "      fill: #FFFFFF;\n",
              "    }\n",
              "  </style>\n",
              "\n",
              "      <script>\n",
              "        const buttonEl =\n",
              "          document.querySelector('#df-d9af184c-3e89-4334-a089-17567e4878b6 button.colab-df-convert');\n",
              "        buttonEl.style.display =\n",
              "          google.colab.kernel.accessAllowed ? 'block' : 'none';\n",
              "\n",
              "        async function convertToInteractive(key) {\n",
              "          const element = document.querySelector('#df-d9af184c-3e89-4334-a089-17567e4878b6');\n",
              "          const dataTable =\n",
              "            await google.colab.kernel.invokeFunction('convertToInteractive',\n",
              "                                                     [key], {});\n",
              "          if (!dataTable) return;\n",
              "\n",
              "          const docLinkHtml = 'Like what you see? Visit the ' +\n",
              "            '<a target=\"_blank\" href=https://colab.research.google.com/notebooks/data_table.ipynb>data table notebook</a>'\n",
              "            + ' to learn more about interactive tables.';\n",
              "          element.innerHTML = '';\n",
              "          dataTable['output_type'] = 'display_data';\n",
              "          await google.colab.output.renderOutput(dataTable, element);\n",
              "          const docLink = document.createElement('div');\n",
              "          docLink.innerHTML = docLinkHtml;\n",
              "          element.appendChild(docLink);\n",
              "        }\n",
              "      </script>\n",
              "    </div>\n",
              "  </div>\n",
              "  "
            ]
          },
          "metadata": {},
          "execution_count": 8
        }
      ]
    },
    {
      "cell_type": "code",
      "source": [
        "classes = movie_data['Freshness'].unique()\n",
        "print(classes)"
      ],
      "metadata": {
        "colab": {
          "base_uri": "https://localhost:8080/"
        },
        "id": "60vgJnnyjgjr",
        "outputId": "7c1316a9-a846-47f6-85f3-70eb3bf4d112"
      },
      "execution_count": 9,
      "outputs": [
        {
          "output_type": "stream",
          "name": "stdout",
          "text": [
            "['fresh' 'rotten']\n"
          ]
        }
      ]
    },
    {
      "cell_type": "code",
      "source": [
        "#Reference: https://stackoverflow.com/questions/22588316/pandas-applying-regex-to-replace-values\n",
        "movie_data = movie_data.replace(\"[^a-zA-Z]+\", \" \", regex=True)"
      ],
      "metadata": {
        "id": "0wB0lgmbjhwl"
      },
      "execution_count": 10,
      "outputs": []
    },
    {
      "cell_type": "markdown",
      "source": [
        "###Splitting and processing the dataset"
      ],
      "metadata": {
        "id": "2dUUtBZ9jkmg"
      }
    },
    {
      "cell_type": "code",
      "source": [
        "#Reference: https://scikit-learn.org/stable/modules/generated/sklearn.model_selection.train_test_split.html\n",
        "train_data,test_data =  train_test_split(movie_data, test_size=0.2, random_state=1)\n",
        "test_data, valid_data = train_test_split(test_data, test_size=0.5, random_state=1)\n",
        "print(\"Size of Train Data: {}\".format(len(train_data.index)))\n",
        "print(\"Size of Test Data: {}\".format(len(test_data.index)))\n",
        "print(\"Size of Validation Data: {}\".format(len(valid_data.index)))"
      ],
      "metadata": {
        "colab": {
          "base_uri": "https://localhost:8080/"
        },
        "id": "8c4nV0mmji6B",
        "outputId": "674dd3ea-8ff1-4fdd-ded0-7a99fd30533f"
      },
      "execution_count": 84,
      "outputs": [
        {
          "output_type": "stream",
          "name": "stdout",
          "text": [
            "Size of Train Data: 384000\n",
            "Size of Test Data: 48000\n",
            "Size of Validation Data: 48000\n"
          ]
        }
      ]
    },
    {
      "cell_type": "code",
      "source": [
        "train_data['Freshness'].value_counts()"
      ],
      "metadata": {
        "colab": {
          "base_uri": "https://localhost:8080/"
        },
        "id": "EQXatOjAjulj",
        "outputId": "e89a6551-b003-4965-be0c-b8b3fd321979"
      },
      "execution_count": 12,
      "outputs": [
        {
          "output_type": "execute_result",
          "data": {
            "text/plain": [
              "fresh     192124\n",
              "rotten    191876\n",
              "Name: Freshness, dtype: int64"
            ]
          },
          "metadata": {},
          "execution_count": 12
        }
      ]
    },
    {
      "cell_type": "code",
      "source": [
        "#For Lemmatization\n",
        "import nltk\n",
        "nltk.download('punkt')\n",
        "import nltk\n",
        "nltk.download('wordnet')"
      ],
      "metadata": {
        "colab": {
          "base_uri": "https://localhost:8080/"
        },
        "id": "D2X8pvuMjydd",
        "outputId": "39da7680-8c1c-4a1d-e9bb-718d4438850d"
      },
      "execution_count": 13,
      "outputs": [
        {
          "output_type": "stream",
          "name": "stderr",
          "text": [
            "[nltk_data] Downloading package punkt to /root/nltk_data...\n",
            "[nltk_data]   Unzipping tokenizers/punkt.zip.\n",
            "[nltk_data] Downloading package wordnet to /root/nltk_data...\n"
          ]
        },
        {
          "output_type": "execute_result",
          "data": {
            "text/plain": [
              "True"
            ]
          },
          "metadata": {},
          "execution_count": 13
        }
      ]
    },
    {
      "cell_type": "code",
      "source": [
        "#Reference: https://karthikvadloori.wixsite.com/home/post/text-classifier-ford-sentence-classification-using-nbc\n",
        "#Reference: https://www.machinelearningplus.com/nlp/lemmatization-examples-python/\n",
        "def get_frequency(df, freshness_type=\"total\", voclist=None) -> Tuple[Dict[str, int], FreqDist]:\n",
        "    if freshness_type != \"total\":\n",
        "        df = df[df[\"Freshness\"] == freshness_type]\n",
        "\n",
        "    reviews = df[\"Review\"].tolist()\n",
        "    words = list(itertools.chain.from_iterable([review.split() for review in reviews]))\n",
        "\n",
        "    # Lemmatize the words using WordNetLemmatizer\n",
        "    lemmatizer = WordNetLemmatizer()\n",
        "    lemmas = (lemmatizer.lemmatize(word.lower()) for word in words if word.isalpha())\n",
        "\n",
        "    # Create a frequency distribution of the lemmas\n",
        "    freq_dist = FreqDist(lemmas)\n",
        "\n",
        "    return dict(freq_dist), freq_dist"
      ],
      "metadata": {
        "id": "z_Jao72Djzra"
      },
      "execution_count": 14,
      "outputs": []
    },
    {
      "cell_type": "code",
      "source": [
        "train_vocdic, train_freq_dist=get_frequency(train_data)"
      ],
      "metadata": {
        "id": "088Vj8_pj1Y9"
      },
      "execution_count": 15,
      "outputs": []
    },
    {
      "cell_type": "code",
      "source": [
        "print(\"Number of unique words in all the sentences after lemmatization:\",len(train_freq_dist))"
      ],
      "metadata": {
        "colab": {
          "base_uri": "https://localhost:8080/"
        },
        "id": "_N-2tSc5j2vl",
        "outputId": "0f8bcdcf-47e9-46f8-c3b4-36d11ec368c0"
      },
      "execution_count": 16,
      "outputs": [
        {
          "output_type": "stream",
          "name": "stdout",
          "text": [
            "Number of unique words in all the sentences after lemmatization: 71716\n"
          ]
        }
      ]
    },
    {
      "cell_type": "code",
      "source": [
        "all_train_freq_dist = train_freq_dist.items() #For probability calculation after smoothing i.e. before the removal of stopwords\n",
        "all_train_freq_list = list(train_freq_dist.items())\n",
        "all_train_vocdic = train_vocdic"
      ],
      "metadata": {
        "id": "WAXE4H8cj32K"
      },
      "execution_count": 17,
      "outputs": []
    },
    {
      "cell_type": "code",
      "source": [
        "train_freq_dist_list = list(train_freq_dist.items()) #For likelihood probability\n",
        "print(train_freq_dist_list[:10])"
      ],
      "metadata": {
        "colab": {
          "base_uri": "https://localhost:8080/"
        },
        "id": "kkf_yuG7j5Af",
        "outputId": "afae8e53-dfac-494a-a26e-9ab46414e397"
      },
      "execution_count": 85,
      "outputs": [
        {
          "output_type": "stream",
          "name": "stdout",
          "text": [
            "[('of', 249549), ('the', 439047), ('featured', 89), ('cast', 6677), ('only', 12510), ('woodley', 111), ('really', 7865), ('achieves', 452), ('any', 9802), ('lasting', 294)]\n"
          ]
        }
      ]
    },
    {
      "cell_type": "code",
      "source": [
        "#Reference: https://stackoverflow.com/questions/65413876/removing-stopwords-from-list-of-lists\n",
        "\n",
        "#Removal of stopwords\n",
        "# Download stopwords\n",
        "nltk.download('stopwords')\n",
        "\n",
        "def stop_words_removal(freq_dist_list, vocdic):\n",
        "  stop_words = stopwords.words('english')\n",
        "  freq_dist_list_copy = freq_dist_list.copy() \n",
        "  for sublist in freq_dist_list_copy:\n",
        "    if sublist[0] in stop_words:\n",
        "      freq_dist_list.remove(sublist)\n",
        "\n",
        "  for sw in stop_words:\n",
        "    if sw in vocdic:\n",
        "      vocdic.pop(sw)\n",
        "  return freq_dist_list, vocdic\n",
        "\n",
        "train_freq_dist_list, train_vocdic = stop_words_removal(train_freq_dist_list, train_vocdic)"
      ],
      "metadata": {
        "colab": {
          "base_uri": "https://localhost:8080/"
        },
        "id": "Mq98w3H-j6De",
        "outputId": "a2e752dd-15bd-4f5a-f40f-010a3b0c4e2c"
      },
      "execution_count": 19,
      "outputs": [
        {
          "output_type": "stream",
          "name": "stderr",
          "text": [
            "[nltk_data] Downloading package stopwords to /root/nltk_data...\n",
            "[nltk_data]   Unzipping corpora/stopwords.zip.\n"
          ]
        }
      ]
    },
    {
      "cell_type": "code",
      "source": [
        "train_freq_dist_list[:10]"
      ],
      "metadata": {
        "colab": {
          "base_uri": "https://localhost:8080/"
        },
        "id": "sKfpcJWjj7hK",
        "outputId": "5819a19c-5edd-43f9-a7c0-31d401102ced"
      },
      "execution_count": 20,
      "outputs": [
        {
          "output_type": "execute_result",
          "data": {
            "text/plain": [
              "[('featured', 89),\n",
              " ('cast', 6677),\n",
              " ('woodley', 111),\n",
              " ('really', 7865),\n",
              " ('achieves', 452),\n",
              " ('lasting', 294),\n",
              " ('impact', 1009),\n",
              " ('episode', 1059),\n",
              " ('although', 2545),\n",
              " ('ham', 297)]"
            ]
          },
          "metadata": {},
          "execution_count": 20
        }
      ]
    },
    {
      "cell_type": "code",
      "source": [
        "print('a' in train_vocdic.keys())\n",
        "print('marshall' in train_vocdic.keys())"
      ],
      "metadata": {
        "colab": {
          "base_uri": "https://localhost:8080/"
        },
        "id": "iChxBNhDj85H",
        "outputId": "182d4aa6-3019-4c40-ede7-10fc6ed2ccbd"
      },
      "execution_count": 21,
      "outputs": [
        {
          "output_type": "stream",
          "name": "stdout",
          "text": [
            "False\n",
            "True\n"
          ]
        }
      ]
    },
    {
      "cell_type": "markdown",
      "source": [
        "###Building bag of vocabulary"
      ],
      "metadata": {
        "id": "rV-p5ZPagA_j"
      }
    },
    {
      "cell_type": "code",
      "source": [
        "train_vocabulary=[]\n",
        "for lemma, count in train_freq_dist_list:\n",
        "    train_vocabulary.append(lemma)\n",
        "print(train_vocabulary[:10])"
      ],
      "metadata": {
        "colab": {
          "base_uri": "https://localhost:8080/"
        },
        "id": "oL-t5DBIj-BO",
        "outputId": "687afd77-3709-4b90-9628-d4c706615329"
      },
      "execution_count": 121,
      "outputs": [
        {
          "output_type": "stream",
          "name": "stdout",
          "text": [
            "['of', 'the', 'featured', 'cast', 'only', 'woodley', 'really', 'achieves', 'any', 'lasting']\n"
          ]
        }
      ]
    },
    {
      "cell_type": "markdown",
      "source": [
        "###Calculating probability of occurrence of a word"
      ],
      "metadata": {
        "id": "lc45g2gygX6-"
      }
    },
    {
      "cell_type": "code",
      "source": [
        "#marginal probability calculation\n",
        "train_wfreqdf_total=pd.DataFrame(train_freq_dist_list,columns=[\"Vocabulary\", \"Total_Frequency\"])\n",
        "train_wfreqdf_total.head()"
      ],
      "metadata": {
        "colab": {
          "base_uri": "https://localhost:8080/",
          "height": 206
        },
        "id": "vyO5XadgkBB9",
        "outputId": "6b1eb2e1-24e4-41b8-c610-843cc57431de"
      },
      "execution_count": 23,
      "outputs": [
        {
          "output_type": "execute_result",
          "data": {
            "text/plain": [
              "  Vocabulary  Total_Frequency\n",
              "0   featured               89\n",
              "1       cast             6677\n",
              "2    woodley              111\n",
              "3     really             7865\n",
              "4   achieves              452"
            ],
            "text/html": [
              "\n",
              "  <div id=\"df-625a6094-6bae-4632-a0af-3e9ce609141f\">\n",
              "    <div class=\"colab-df-container\">\n",
              "      <div>\n",
              "<style scoped>\n",
              "    .dataframe tbody tr th:only-of-type {\n",
              "        vertical-align: middle;\n",
              "    }\n",
              "\n",
              "    .dataframe tbody tr th {\n",
              "        vertical-align: top;\n",
              "    }\n",
              "\n",
              "    .dataframe thead th {\n",
              "        text-align: right;\n",
              "    }\n",
              "</style>\n",
              "<table border=\"1\" class=\"dataframe\">\n",
              "  <thead>\n",
              "    <tr style=\"text-align: right;\">\n",
              "      <th></th>\n",
              "      <th>Vocabulary</th>\n",
              "      <th>Total_Frequency</th>\n",
              "    </tr>\n",
              "  </thead>\n",
              "  <tbody>\n",
              "    <tr>\n",
              "      <th>0</th>\n",
              "      <td>featured</td>\n",
              "      <td>89</td>\n",
              "    </tr>\n",
              "    <tr>\n",
              "      <th>1</th>\n",
              "      <td>cast</td>\n",
              "      <td>6677</td>\n",
              "    </tr>\n",
              "    <tr>\n",
              "      <th>2</th>\n",
              "      <td>woodley</td>\n",
              "      <td>111</td>\n",
              "    </tr>\n",
              "    <tr>\n",
              "      <th>3</th>\n",
              "      <td>really</td>\n",
              "      <td>7865</td>\n",
              "    </tr>\n",
              "    <tr>\n",
              "      <th>4</th>\n",
              "      <td>achieves</td>\n",
              "      <td>452</td>\n",
              "    </tr>\n",
              "  </tbody>\n",
              "</table>\n",
              "</div>\n",
              "      <button class=\"colab-df-convert\" onclick=\"convertToInteractive('df-625a6094-6bae-4632-a0af-3e9ce609141f')\"\n",
              "              title=\"Convert this dataframe to an interactive table.\"\n",
              "              style=\"display:none;\">\n",
              "        \n",
              "  <svg xmlns=\"http://www.w3.org/2000/svg\" height=\"24px\"viewBox=\"0 0 24 24\"\n",
              "       width=\"24px\">\n",
              "    <path d=\"M0 0h24v24H0V0z\" fill=\"none\"/>\n",
              "    <path d=\"M18.56 5.44l.94 2.06.94-2.06 2.06-.94-2.06-.94-.94-2.06-.94 2.06-2.06.94zm-11 1L8.5 8.5l.94-2.06 2.06-.94-2.06-.94L8.5 2.5l-.94 2.06-2.06.94zm10 10l.94 2.06.94-2.06 2.06-.94-2.06-.94-.94-2.06-.94 2.06-2.06.94z\"/><path d=\"M17.41 7.96l-1.37-1.37c-.4-.4-.92-.59-1.43-.59-.52 0-1.04.2-1.43.59L10.3 9.45l-7.72 7.72c-.78.78-.78 2.05 0 2.83L4 21.41c.39.39.9.59 1.41.59.51 0 1.02-.2 1.41-.59l7.78-7.78 2.81-2.81c.8-.78.8-2.07 0-2.86zM5.41 20L4 18.59l7.72-7.72 1.47 1.35L5.41 20z\"/>\n",
              "  </svg>\n",
              "      </button>\n",
              "      \n",
              "  <style>\n",
              "    .colab-df-container {\n",
              "      display:flex;\n",
              "      flex-wrap:wrap;\n",
              "      gap: 12px;\n",
              "    }\n",
              "\n",
              "    .colab-df-convert {\n",
              "      background-color: #E8F0FE;\n",
              "      border: none;\n",
              "      border-radius: 50%;\n",
              "      cursor: pointer;\n",
              "      display: none;\n",
              "      fill: #1967D2;\n",
              "      height: 32px;\n",
              "      padding: 0 0 0 0;\n",
              "      width: 32px;\n",
              "    }\n",
              "\n",
              "    .colab-df-convert:hover {\n",
              "      background-color: #E2EBFA;\n",
              "      box-shadow: 0px 1px 2px rgba(60, 64, 67, 0.3), 0px 1px 3px 1px rgba(60, 64, 67, 0.15);\n",
              "      fill: #174EA6;\n",
              "    }\n",
              "\n",
              "    [theme=dark] .colab-df-convert {\n",
              "      background-color: #3B4455;\n",
              "      fill: #D2E3FC;\n",
              "    }\n",
              "\n",
              "    [theme=dark] .colab-df-convert:hover {\n",
              "      background-color: #434B5C;\n",
              "      box-shadow: 0px 1px 3px 1px rgba(0, 0, 0, 0.15);\n",
              "      filter: drop-shadow(0px 1px 2px rgba(0, 0, 0, 0.3));\n",
              "      fill: #FFFFFF;\n",
              "    }\n",
              "  </style>\n",
              "\n",
              "      <script>\n",
              "        const buttonEl =\n",
              "          document.querySelector('#df-625a6094-6bae-4632-a0af-3e9ce609141f button.colab-df-convert');\n",
              "        buttonEl.style.display =\n",
              "          google.colab.kernel.accessAllowed ? 'block' : 'none';\n",
              "\n",
              "        async function convertToInteractive(key) {\n",
              "          const element = document.querySelector('#df-625a6094-6bae-4632-a0af-3e9ce609141f');\n",
              "          const dataTable =\n",
              "            await google.colab.kernel.invokeFunction('convertToInteractive',\n",
              "                                                     [key], {});\n",
              "          if (!dataTable) return;\n",
              "\n",
              "          const docLinkHtml = 'Like what you see? Visit the ' +\n",
              "            '<a target=\"_blank\" href=https://colab.research.google.com/notebooks/data_table.ipynb>data table notebook</a>'\n",
              "            + ' to learn more about interactive tables.';\n",
              "          element.innerHTML = '';\n",
              "          dataTable['output_type'] = 'display_data';\n",
              "          await google.colab.output.renderOutput(dataTable, element);\n",
              "          const docLink = document.createElement('div');\n",
              "          docLink.innerHTML = docLinkHtml;\n",
              "          element.appendChild(docLink);\n",
              "        }\n",
              "      </script>\n",
              "    </div>\n",
              "  </div>\n",
              "  "
            ]
          },
          "metadata": {},
          "execution_count": 23
        }
      ]
    },
    {
      "cell_type": "code",
      "source": [
        "sum_of_values = sum(train_vocdic.values())\n",
        "print(sum_of_values)"
      ],
      "metadata": {
        "colab": {
          "base_uri": "https://localhost:8080/"
        },
        "id": "E5Qi7GnGkCXl",
        "outputId": "baf3aca7-fd50-49de-b330-2796011cccf9"
      },
      "execution_count": 24,
      "outputs": [
        {
          "output_type": "stream",
          "name": "stdout",
          "text": [
            "4821291\n"
          ]
        }
      ]
    },
    {
      "cell_type": "code",
      "source": [
        "#Reference: https://karthikvadloori.wixsite.com/home/post/text-classifier-ford-sentence-classification-using-nbc\n",
        "st=True\n",
        "marginal_prob = (\n",
        "    train_wfreqdf_total.set_index(\"Vocabulary\")\n",
        "    .fillna(0) if st else train_wfreqdf_total.set_index(\"Vocabulary\")\n",
        ")\n",
        "\n",
        "marginal_prob = marginal_prob.apply(lambda x: x/sum_of_values, axis=1)\n",
        "marginal_prob"
      ],
      "metadata": {
        "colab": {
          "base_uri": "https://localhost:8080/",
          "height": 455
        },
        "id": "VkeO1fp2kDo-",
        "outputId": "496957e7-c86e-4d4c-d331-4c39a62d0a1e"
      },
      "execution_count": 25,
      "outputs": [
        {
          "output_type": "execute_result",
          "data": {
            "text/plain": [
              "            Total_Frequency\n",
              "Vocabulary                 \n",
              "featured       1.845979e-05\n",
              "cast           1.384899e-03\n",
              "woodley        2.302288e-05\n",
              "really         1.631306e-03\n",
              "achieves       9.375082e-05\n",
              "...                     ...\n",
              "kingmaking     2.074133e-07\n",
              "remolding      2.074133e-07\n",
              "bagging        2.074133e-07\n",
              "vaxxers        2.074133e-07\n",
              "denialists     2.074133e-07\n",
              "\n",
              "[71567 rows x 1 columns]"
            ],
            "text/html": [
              "\n",
              "  <div id=\"df-ebf59edb-4caa-4fc8-9de2-6bab687b31d9\">\n",
              "    <div class=\"colab-df-container\">\n",
              "      <div>\n",
              "<style scoped>\n",
              "    .dataframe tbody tr th:only-of-type {\n",
              "        vertical-align: middle;\n",
              "    }\n",
              "\n",
              "    .dataframe tbody tr th {\n",
              "        vertical-align: top;\n",
              "    }\n",
              "\n",
              "    .dataframe thead th {\n",
              "        text-align: right;\n",
              "    }\n",
              "</style>\n",
              "<table border=\"1\" class=\"dataframe\">\n",
              "  <thead>\n",
              "    <tr style=\"text-align: right;\">\n",
              "      <th></th>\n",
              "      <th>Total_Frequency</th>\n",
              "    </tr>\n",
              "    <tr>\n",
              "      <th>Vocabulary</th>\n",
              "      <th></th>\n",
              "    </tr>\n",
              "  </thead>\n",
              "  <tbody>\n",
              "    <tr>\n",
              "      <th>featured</th>\n",
              "      <td>1.845979e-05</td>\n",
              "    </tr>\n",
              "    <tr>\n",
              "      <th>cast</th>\n",
              "      <td>1.384899e-03</td>\n",
              "    </tr>\n",
              "    <tr>\n",
              "      <th>woodley</th>\n",
              "      <td>2.302288e-05</td>\n",
              "    </tr>\n",
              "    <tr>\n",
              "      <th>really</th>\n",
              "      <td>1.631306e-03</td>\n",
              "    </tr>\n",
              "    <tr>\n",
              "      <th>achieves</th>\n",
              "      <td>9.375082e-05</td>\n",
              "    </tr>\n",
              "    <tr>\n",
              "      <th>...</th>\n",
              "      <td>...</td>\n",
              "    </tr>\n",
              "    <tr>\n",
              "      <th>kingmaking</th>\n",
              "      <td>2.074133e-07</td>\n",
              "    </tr>\n",
              "    <tr>\n",
              "      <th>remolding</th>\n",
              "      <td>2.074133e-07</td>\n",
              "    </tr>\n",
              "    <tr>\n",
              "      <th>bagging</th>\n",
              "      <td>2.074133e-07</td>\n",
              "    </tr>\n",
              "    <tr>\n",
              "      <th>vaxxers</th>\n",
              "      <td>2.074133e-07</td>\n",
              "    </tr>\n",
              "    <tr>\n",
              "      <th>denialists</th>\n",
              "      <td>2.074133e-07</td>\n",
              "    </tr>\n",
              "  </tbody>\n",
              "</table>\n",
              "<p>71567 rows × 1 columns</p>\n",
              "</div>\n",
              "      <button class=\"colab-df-convert\" onclick=\"convertToInteractive('df-ebf59edb-4caa-4fc8-9de2-6bab687b31d9')\"\n",
              "              title=\"Convert this dataframe to an interactive table.\"\n",
              "              style=\"display:none;\">\n",
              "        \n",
              "  <svg xmlns=\"http://www.w3.org/2000/svg\" height=\"24px\"viewBox=\"0 0 24 24\"\n",
              "       width=\"24px\">\n",
              "    <path d=\"M0 0h24v24H0V0z\" fill=\"none\"/>\n",
              "    <path d=\"M18.56 5.44l.94 2.06.94-2.06 2.06-.94-2.06-.94-.94-2.06-.94 2.06-2.06.94zm-11 1L8.5 8.5l.94-2.06 2.06-.94-2.06-.94L8.5 2.5l-.94 2.06-2.06.94zm10 10l.94 2.06.94-2.06 2.06-.94-2.06-.94-.94-2.06-.94 2.06-2.06.94z\"/><path d=\"M17.41 7.96l-1.37-1.37c-.4-.4-.92-.59-1.43-.59-.52 0-1.04.2-1.43.59L10.3 9.45l-7.72 7.72c-.78.78-.78 2.05 0 2.83L4 21.41c.39.39.9.59 1.41.59.51 0 1.02-.2 1.41-.59l7.78-7.78 2.81-2.81c.8-.78.8-2.07 0-2.86zM5.41 20L4 18.59l7.72-7.72 1.47 1.35L5.41 20z\"/>\n",
              "  </svg>\n",
              "      </button>\n",
              "      \n",
              "  <style>\n",
              "    .colab-df-container {\n",
              "      display:flex;\n",
              "      flex-wrap:wrap;\n",
              "      gap: 12px;\n",
              "    }\n",
              "\n",
              "    .colab-df-convert {\n",
              "      background-color: #E8F0FE;\n",
              "      border: none;\n",
              "      border-radius: 50%;\n",
              "      cursor: pointer;\n",
              "      display: none;\n",
              "      fill: #1967D2;\n",
              "      height: 32px;\n",
              "      padding: 0 0 0 0;\n",
              "      width: 32px;\n",
              "    }\n",
              "\n",
              "    .colab-df-convert:hover {\n",
              "      background-color: #E2EBFA;\n",
              "      box-shadow: 0px 1px 2px rgba(60, 64, 67, 0.3), 0px 1px 3px 1px rgba(60, 64, 67, 0.15);\n",
              "      fill: #174EA6;\n",
              "    }\n",
              "\n",
              "    [theme=dark] .colab-df-convert {\n",
              "      background-color: #3B4455;\n",
              "      fill: #D2E3FC;\n",
              "    }\n",
              "\n",
              "    [theme=dark] .colab-df-convert:hover {\n",
              "      background-color: #434B5C;\n",
              "      box-shadow: 0px 1px 3px 1px rgba(0, 0, 0, 0.15);\n",
              "      filter: drop-shadow(0px 1px 2px rgba(0, 0, 0, 0.3));\n",
              "      fill: #FFFFFF;\n",
              "    }\n",
              "  </style>\n",
              "\n",
              "      <script>\n",
              "        const buttonEl =\n",
              "          document.querySelector('#df-ebf59edb-4caa-4fc8-9de2-6bab687b31d9 button.colab-df-convert');\n",
              "        buttonEl.style.display =\n",
              "          google.colab.kernel.accessAllowed ? 'block' : 'none';\n",
              "\n",
              "        async function convertToInteractive(key) {\n",
              "          const element = document.querySelector('#df-ebf59edb-4caa-4fc8-9de2-6bab687b31d9');\n",
              "          const dataTable =\n",
              "            await google.colab.kernel.invokeFunction('convertToInteractive',\n",
              "                                                     [key], {});\n",
              "          if (!dataTable) return;\n",
              "\n",
              "          const docLinkHtml = 'Like what you see? Visit the ' +\n",
              "            '<a target=\"_blank\" href=https://colab.research.google.com/notebooks/data_table.ipynb>data table notebook</a>'\n",
              "            + ' to learn more about interactive tables.';\n",
              "          element.innerHTML = '';\n",
              "          dataTable['output_type'] = 'display_data';\n",
              "          await google.colab.output.renderOutput(dataTable, element);\n",
              "          const docLink = document.createElement('div');\n",
              "          docLink.innerHTML = docLinkHtml;\n",
              "          element.appendChild(docLink);\n",
              "        }\n",
              "      </script>\n",
              "    </div>\n",
              "  </div>\n",
              "  "
            ]
          },
          "metadata": {},
          "execution_count": 25
        }
      ]
    },
    {
      "cell_type": "markdown",
      "source": [
        "###Calculating Conditional probability based on the sentiment"
      ],
      "metadata": {
        "id": "C-X5SbSEgG7D"
      }
    },
    {
      "cell_type": "code",
      "source": [
        "#Likelihod probability calculation\n",
        "train_wfreqdf=pd.DataFrame(train_vocabulary,columns=[\"Vocabulary\"])\n",
        "train_wfreqdf.head(10)"
      ],
      "metadata": {
        "colab": {
          "base_uri": "https://localhost:8080/",
          "height": 363
        },
        "id": "EcJBxv3qkGWu",
        "outputId": "4a9b41db-7861-4430-ed9d-fd58daa819a4"
      },
      "execution_count": 26,
      "outputs": [
        {
          "output_type": "execute_result",
          "data": {
            "text/plain": [
              "  Vocabulary\n",
              "0   featured\n",
              "1       cast\n",
              "2    woodley\n",
              "3     really\n",
              "4   achieves\n",
              "5    lasting\n",
              "6     impact\n",
              "7    episode\n",
              "8   although\n",
              "9        ham"
            ],
            "text/html": [
              "\n",
              "  <div id=\"df-b3b9b046-bb47-45e9-aa55-b37c3460a2cb\">\n",
              "    <div class=\"colab-df-container\">\n",
              "      <div>\n",
              "<style scoped>\n",
              "    .dataframe tbody tr th:only-of-type {\n",
              "        vertical-align: middle;\n",
              "    }\n",
              "\n",
              "    .dataframe tbody tr th {\n",
              "        vertical-align: top;\n",
              "    }\n",
              "\n",
              "    .dataframe thead th {\n",
              "        text-align: right;\n",
              "    }\n",
              "</style>\n",
              "<table border=\"1\" class=\"dataframe\">\n",
              "  <thead>\n",
              "    <tr style=\"text-align: right;\">\n",
              "      <th></th>\n",
              "      <th>Vocabulary</th>\n",
              "    </tr>\n",
              "  </thead>\n",
              "  <tbody>\n",
              "    <tr>\n",
              "      <th>0</th>\n",
              "      <td>featured</td>\n",
              "    </tr>\n",
              "    <tr>\n",
              "      <th>1</th>\n",
              "      <td>cast</td>\n",
              "    </tr>\n",
              "    <tr>\n",
              "      <th>2</th>\n",
              "      <td>woodley</td>\n",
              "    </tr>\n",
              "    <tr>\n",
              "      <th>3</th>\n",
              "      <td>really</td>\n",
              "    </tr>\n",
              "    <tr>\n",
              "      <th>4</th>\n",
              "      <td>achieves</td>\n",
              "    </tr>\n",
              "    <tr>\n",
              "      <th>5</th>\n",
              "      <td>lasting</td>\n",
              "    </tr>\n",
              "    <tr>\n",
              "      <th>6</th>\n",
              "      <td>impact</td>\n",
              "    </tr>\n",
              "    <tr>\n",
              "      <th>7</th>\n",
              "      <td>episode</td>\n",
              "    </tr>\n",
              "    <tr>\n",
              "      <th>8</th>\n",
              "      <td>although</td>\n",
              "    </tr>\n",
              "    <tr>\n",
              "      <th>9</th>\n",
              "      <td>ham</td>\n",
              "    </tr>\n",
              "  </tbody>\n",
              "</table>\n",
              "</div>\n",
              "      <button class=\"colab-df-convert\" onclick=\"convertToInteractive('df-b3b9b046-bb47-45e9-aa55-b37c3460a2cb')\"\n",
              "              title=\"Convert this dataframe to an interactive table.\"\n",
              "              style=\"display:none;\">\n",
              "        \n",
              "  <svg xmlns=\"http://www.w3.org/2000/svg\" height=\"24px\"viewBox=\"0 0 24 24\"\n",
              "       width=\"24px\">\n",
              "    <path d=\"M0 0h24v24H0V0z\" fill=\"none\"/>\n",
              "    <path d=\"M18.56 5.44l.94 2.06.94-2.06 2.06-.94-2.06-.94-.94-2.06-.94 2.06-2.06.94zm-11 1L8.5 8.5l.94-2.06 2.06-.94-2.06-.94L8.5 2.5l-.94 2.06-2.06.94zm10 10l.94 2.06.94-2.06 2.06-.94-2.06-.94-.94-2.06-.94 2.06-2.06.94z\"/><path d=\"M17.41 7.96l-1.37-1.37c-.4-.4-.92-.59-1.43-.59-.52 0-1.04.2-1.43.59L10.3 9.45l-7.72 7.72c-.78.78-.78 2.05 0 2.83L4 21.41c.39.39.9.59 1.41.59.51 0 1.02-.2 1.41-.59l7.78-7.78 2.81-2.81c.8-.78.8-2.07 0-2.86zM5.41 20L4 18.59l7.72-7.72 1.47 1.35L5.41 20z\"/>\n",
              "  </svg>\n",
              "      </button>\n",
              "      \n",
              "  <style>\n",
              "    .colab-df-container {\n",
              "      display:flex;\n",
              "      flex-wrap:wrap;\n",
              "      gap: 12px;\n",
              "    }\n",
              "\n",
              "    .colab-df-convert {\n",
              "      background-color: #E8F0FE;\n",
              "      border: none;\n",
              "      border-radius: 50%;\n",
              "      cursor: pointer;\n",
              "      display: none;\n",
              "      fill: #1967D2;\n",
              "      height: 32px;\n",
              "      padding: 0 0 0 0;\n",
              "      width: 32px;\n",
              "    }\n",
              "\n",
              "    .colab-df-convert:hover {\n",
              "      background-color: #E2EBFA;\n",
              "      box-shadow: 0px 1px 2px rgba(60, 64, 67, 0.3), 0px 1px 3px 1px rgba(60, 64, 67, 0.15);\n",
              "      fill: #174EA6;\n",
              "    }\n",
              "\n",
              "    [theme=dark] .colab-df-convert {\n",
              "      background-color: #3B4455;\n",
              "      fill: #D2E3FC;\n",
              "    }\n",
              "\n",
              "    [theme=dark] .colab-df-convert:hover {\n",
              "      background-color: #434B5C;\n",
              "      box-shadow: 0px 1px 3px 1px rgba(0, 0, 0, 0.15);\n",
              "      filter: drop-shadow(0px 1px 2px rgba(0, 0, 0, 0.3));\n",
              "      fill: #FFFFFF;\n",
              "    }\n",
              "  </style>\n",
              "\n",
              "      <script>\n",
              "        const buttonEl =\n",
              "          document.querySelector('#df-b3b9b046-bb47-45e9-aa55-b37c3460a2cb button.colab-df-convert');\n",
              "        buttonEl.style.display =\n",
              "          google.colab.kernel.accessAllowed ? 'block' : 'none';\n",
              "\n",
              "        async function convertToInteractive(key) {\n",
              "          const element = document.querySelector('#df-b3b9b046-bb47-45e9-aa55-b37c3460a2cb');\n",
              "          const dataTable =\n",
              "            await google.colab.kernel.invokeFunction('convertToInteractive',\n",
              "                                                     [key], {});\n",
              "          if (!dataTable) return;\n",
              "\n",
              "          const docLinkHtml = 'Like what you see? Visit the ' +\n",
              "            '<a target=\"_blank\" href=https://colab.research.google.com/notebooks/data_table.ipynb>data table notebook</a>'\n",
              "            + ' to learn more about interactive tables.';\n",
              "          element.innerHTML = '';\n",
              "          dataTable['output_type'] = 'display_data';\n",
              "          await google.colab.output.renderOutput(dataTable, element);\n",
              "          const docLink = document.createElement('div');\n",
              "          docLink.innerHTML = docLinkHtml;\n",
              "          element.appendChild(docLink);\n",
              "        }\n",
              "      </script>\n",
              "    </div>\n",
              "  </div>\n",
              "  "
            ]
          },
          "metadata": {},
          "execution_count": 26
        }
      ]
    },
    {
      "cell_type": "code",
      "source": [
        "freshness_count = train_data['Freshness'].value_counts()\n",
        "print(\"Fresh : {}\".format(freshness_count.values[0]), \"\\tRotten : {}\".format(freshness_count.values[1]))\n",
        "\n",
        "for freshness in freshness_count.index:\n",
        "    print(\"\\nFreshness: {}\".format(freshness))\n",
        "    vocdic_type, freq_cnt_type=get_frequency(train_data, freshness, voclist = train_vocabulary)\n",
        "    freq_dist_list=list(freq_cnt_type.items())\n",
        "    freq_cnt_type, vocdic_type = stop_words_removal(freq_dist_list, vocdic_type)\n",
        "    temp = [(lemma, freshness) for lemma, count in freq_cnt_type]\n",
        "    voctypedf=pd.DataFrame(vocdic_type.items(),columns=[\"Vocabulary\",freshness])\n",
        "    train_wfreqdf=train_wfreqdf.merge(voctypedf,how=\"left\",on=\"Vocabulary\")\n",
        "\n",
        "print(len(train_wfreqdf))\n",
        "train_wfreqdf.head(20)"
      ],
      "metadata": {
        "colab": {
          "base_uri": "https://localhost:8080/",
          "height": 784
        },
        "id": "90S7DIi1kH9I",
        "outputId": "89dc9642-7cf2-4661-d565-18adf0c39b22"
      },
      "execution_count": 27,
      "outputs": [
        {
          "output_type": "stream",
          "name": "stdout",
          "text": [
            "Fresh : 192124 \tRotten : 191876\n",
            "\n",
            "Freshness: fresh\n",
            "\n",
            "Freshness: rotten\n",
            "71567\n"
          ]
        },
        {
          "output_type": "execute_result",
          "data": {
            "text/plain": [
              "   Vocabulary    fresh   rotten\n",
              "0    featured     37.0     52.0\n",
              "1        cast   3665.0   3012.0\n",
              "2     woodley     62.0     49.0\n",
              "3      really   3151.0   4714.0\n",
              "4    achieves    293.0    159.0\n",
              "5     lasting    142.0    152.0\n",
              "6      impact    532.0    477.0\n",
              "7     episode    317.0    742.0\n",
              "8    although   1349.0   1196.0\n",
              "9         ham     43.0    254.0\n",
              "10     fisted     16.0    126.0\n",
              "11    writing    578.0    712.0\n",
              "12  sometimes   1893.0   1067.0\n",
              "13       leaf    796.0   1092.0\n",
              "14     little   4741.0   6688.0\n",
              "15    exposed     53.0     45.0\n",
              "16    perhaps   1210.0   1315.0\n",
              "17    weakest     45.0    131.0\n",
              "18     hirani      1.0      2.0\n",
              "19       film  39377.0  31625.0"
            ],
            "text/html": [
              "\n",
              "  <div id=\"df-e560dc6a-6818-4571-af37-20a1ce212d31\">\n",
              "    <div class=\"colab-df-container\">\n",
              "      <div>\n",
              "<style scoped>\n",
              "    .dataframe tbody tr th:only-of-type {\n",
              "        vertical-align: middle;\n",
              "    }\n",
              "\n",
              "    .dataframe tbody tr th {\n",
              "        vertical-align: top;\n",
              "    }\n",
              "\n",
              "    .dataframe thead th {\n",
              "        text-align: right;\n",
              "    }\n",
              "</style>\n",
              "<table border=\"1\" class=\"dataframe\">\n",
              "  <thead>\n",
              "    <tr style=\"text-align: right;\">\n",
              "      <th></th>\n",
              "      <th>Vocabulary</th>\n",
              "      <th>fresh</th>\n",
              "      <th>rotten</th>\n",
              "    </tr>\n",
              "  </thead>\n",
              "  <tbody>\n",
              "    <tr>\n",
              "      <th>0</th>\n",
              "      <td>featured</td>\n",
              "      <td>37.0</td>\n",
              "      <td>52.0</td>\n",
              "    </tr>\n",
              "    <tr>\n",
              "      <th>1</th>\n",
              "      <td>cast</td>\n",
              "      <td>3665.0</td>\n",
              "      <td>3012.0</td>\n",
              "    </tr>\n",
              "    <tr>\n",
              "      <th>2</th>\n",
              "      <td>woodley</td>\n",
              "      <td>62.0</td>\n",
              "      <td>49.0</td>\n",
              "    </tr>\n",
              "    <tr>\n",
              "      <th>3</th>\n",
              "      <td>really</td>\n",
              "      <td>3151.0</td>\n",
              "      <td>4714.0</td>\n",
              "    </tr>\n",
              "    <tr>\n",
              "      <th>4</th>\n",
              "      <td>achieves</td>\n",
              "      <td>293.0</td>\n",
              "      <td>159.0</td>\n",
              "    </tr>\n",
              "    <tr>\n",
              "      <th>5</th>\n",
              "      <td>lasting</td>\n",
              "      <td>142.0</td>\n",
              "      <td>152.0</td>\n",
              "    </tr>\n",
              "    <tr>\n",
              "      <th>6</th>\n",
              "      <td>impact</td>\n",
              "      <td>532.0</td>\n",
              "      <td>477.0</td>\n",
              "    </tr>\n",
              "    <tr>\n",
              "      <th>7</th>\n",
              "      <td>episode</td>\n",
              "      <td>317.0</td>\n",
              "      <td>742.0</td>\n",
              "    </tr>\n",
              "    <tr>\n",
              "      <th>8</th>\n",
              "      <td>although</td>\n",
              "      <td>1349.0</td>\n",
              "      <td>1196.0</td>\n",
              "    </tr>\n",
              "    <tr>\n",
              "      <th>9</th>\n",
              "      <td>ham</td>\n",
              "      <td>43.0</td>\n",
              "      <td>254.0</td>\n",
              "    </tr>\n",
              "    <tr>\n",
              "      <th>10</th>\n",
              "      <td>fisted</td>\n",
              "      <td>16.0</td>\n",
              "      <td>126.0</td>\n",
              "    </tr>\n",
              "    <tr>\n",
              "      <th>11</th>\n",
              "      <td>writing</td>\n",
              "      <td>578.0</td>\n",
              "      <td>712.0</td>\n",
              "    </tr>\n",
              "    <tr>\n",
              "      <th>12</th>\n",
              "      <td>sometimes</td>\n",
              "      <td>1893.0</td>\n",
              "      <td>1067.0</td>\n",
              "    </tr>\n",
              "    <tr>\n",
              "      <th>13</th>\n",
              "      <td>leaf</td>\n",
              "      <td>796.0</td>\n",
              "      <td>1092.0</td>\n",
              "    </tr>\n",
              "    <tr>\n",
              "      <th>14</th>\n",
              "      <td>little</td>\n",
              "      <td>4741.0</td>\n",
              "      <td>6688.0</td>\n",
              "    </tr>\n",
              "    <tr>\n",
              "      <th>15</th>\n",
              "      <td>exposed</td>\n",
              "      <td>53.0</td>\n",
              "      <td>45.0</td>\n",
              "    </tr>\n",
              "    <tr>\n",
              "      <th>16</th>\n",
              "      <td>perhaps</td>\n",
              "      <td>1210.0</td>\n",
              "      <td>1315.0</td>\n",
              "    </tr>\n",
              "    <tr>\n",
              "      <th>17</th>\n",
              "      <td>weakest</td>\n",
              "      <td>45.0</td>\n",
              "      <td>131.0</td>\n",
              "    </tr>\n",
              "    <tr>\n",
              "      <th>18</th>\n",
              "      <td>hirani</td>\n",
              "      <td>1.0</td>\n",
              "      <td>2.0</td>\n",
              "    </tr>\n",
              "    <tr>\n",
              "      <th>19</th>\n",
              "      <td>film</td>\n",
              "      <td>39377.0</td>\n",
              "      <td>31625.0</td>\n",
              "    </tr>\n",
              "  </tbody>\n",
              "</table>\n",
              "</div>\n",
              "      <button class=\"colab-df-convert\" onclick=\"convertToInteractive('df-e560dc6a-6818-4571-af37-20a1ce212d31')\"\n",
              "              title=\"Convert this dataframe to an interactive table.\"\n",
              "              style=\"display:none;\">\n",
              "        \n",
              "  <svg xmlns=\"http://www.w3.org/2000/svg\" height=\"24px\"viewBox=\"0 0 24 24\"\n",
              "       width=\"24px\">\n",
              "    <path d=\"M0 0h24v24H0V0z\" fill=\"none\"/>\n",
              "    <path d=\"M18.56 5.44l.94 2.06.94-2.06 2.06-.94-2.06-.94-.94-2.06-.94 2.06-2.06.94zm-11 1L8.5 8.5l.94-2.06 2.06-.94-2.06-.94L8.5 2.5l-.94 2.06-2.06.94zm10 10l.94 2.06.94-2.06 2.06-.94-2.06-.94-.94-2.06-.94 2.06-2.06.94z\"/><path d=\"M17.41 7.96l-1.37-1.37c-.4-.4-.92-.59-1.43-.59-.52 0-1.04.2-1.43.59L10.3 9.45l-7.72 7.72c-.78.78-.78 2.05 0 2.83L4 21.41c.39.39.9.59 1.41.59.51 0 1.02-.2 1.41-.59l7.78-7.78 2.81-2.81c.8-.78.8-2.07 0-2.86zM5.41 20L4 18.59l7.72-7.72 1.47 1.35L5.41 20z\"/>\n",
              "  </svg>\n",
              "      </button>\n",
              "      \n",
              "  <style>\n",
              "    .colab-df-container {\n",
              "      display:flex;\n",
              "      flex-wrap:wrap;\n",
              "      gap: 12px;\n",
              "    }\n",
              "\n",
              "    .colab-df-convert {\n",
              "      background-color: #E8F0FE;\n",
              "      border: none;\n",
              "      border-radius: 50%;\n",
              "      cursor: pointer;\n",
              "      display: none;\n",
              "      fill: #1967D2;\n",
              "      height: 32px;\n",
              "      padding: 0 0 0 0;\n",
              "      width: 32px;\n",
              "    }\n",
              "\n",
              "    .colab-df-convert:hover {\n",
              "      background-color: #E2EBFA;\n",
              "      box-shadow: 0px 1px 2px rgba(60, 64, 67, 0.3), 0px 1px 3px 1px rgba(60, 64, 67, 0.15);\n",
              "      fill: #174EA6;\n",
              "    }\n",
              "\n",
              "    [theme=dark] .colab-df-convert {\n",
              "      background-color: #3B4455;\n",
              "      fill: #D2E3FC;\n",
              "    }\n",
              "\n",
              "    [theme=dark] .colab-df-convert:hover {\n",
              "      background-color: #434B5C;\n",
              "      box-shadow: 0px 1px 3px 1px rgba(0, 0, 0, 0.15);\n",
              "      filter: drop-shadow(0px 1px 2px rgba(0, 0, 0, 0.3));\n",
              "      fill: #FFFFFF;\n",
              "    }\n",
              "  </style>\n",
              "\n",
              "      <script>\n",
              "        const buttonEl =\n",
              "          document.querySelector('#df-e560dc6a-6818-4571-af37-20a1ce212d31 button.colab-df-convert');\n",
              "        buttonEl.style.display =\n",
              "          google.colab.kernel.accessAllowed ? 'block' : 'none';\n",
              "\n",
              "        async function convertToInteractive(key) {\n",
              "          const element = document.querySelector('#df-e560dc6a-6818-4571-af37-20a1ce212d31');\n",
              "          const dataTable =\n",
              "            await google.colab.kernel.invokeFunction('convertToInteractive',\n",
              "                                                     [key], {});\n",
              "          if (!dataTable) return;\n",
              "\n",
              "          const docLinkHtml = 'Like what you see? Visit the ' +\n",
              "            '<a target=\"_blank\" href=https://colab.research.google.com/notebooks/data_table.ipynb>data table notebook</a>'\n",
              "            + ' to learn more about interactive tables.';\n",
              "          element.innerHTML = '';\n",
              "          dataTable['output_type'] = 'display_data';\n",
              "          await google.colab.output.renderOutput(dataTable, element);\n",
              "          const docLink = document.createElement('div');\n",
              "          docLink.innerHTML = docLinkHtml;\n",
              "          element.appendChild(docLink);\n",
              "        }\n",
              "      </script>\n",
              "    </div>\n",
              "  </div>\n",
              "  "
            ]
          },
          "metadata": {},
          "execution_count": 27
        }
      ]
    },
    {
      "cell_type": "code",
      "source": [
        "st=True\n",
        "likelihoodprob = (\n",
        "    train_wfreqdf.set_index(\"Vocabulary\")\n",
        "    .fillna(0) if st else train_wfreqdf.set_index(\"Vocabulary\")\n",
        ")\n",
        "likelihoodprob"
      ],
      "metadata": {
        "colab": {
          "base_uri": "https://localhost:8080/",
          "height": 455
        },
        "id": "zOhO7NfjkKcP",
        "outputId": "e731bd6c-4124-46c0-e5c5-e0a1c65f0501"
      },
      "execution_count": 28,
      "outputs": [
        {
          "output_type": "execute_result",
          "data": {
            "text/plain": [
              "             fresh  rotten\n",
              "Vocabulary                \n",
              "featured      37.0    52.0\n",
              "cast        3665.0  3012.0\n",
              "woodley       62.0    49.0\n",
              "really      3151.0  4714.0\n",
              "achieves     293.0   159.0\n",
              "...            ...     ...\n",
              "kingmaking     1.0     0.0\n",
              "remolding      0.0     1.0\n",
              "bagging        0.0     1.0\n",
              "vaxxers        1.0     0.0\n",
              "denialists     1.0     0.0\n",
              "\n",
              "[71567 rows x 2 columns]"
            ],
            "text/html": [
              "\n",
              "  <div id=\"df-d44fbd65-f0ec-40fb-b326-f229781122e8\">\n",
              "    <div class=\"colab-df-container\">\n",
              "      <div>\n",
              "<style scoped>\n",
              "    .dataframe tbody tr th:only-of-type {\n",
              "        vertical-align: middle;\n",
              "    }\n",
              "\n",
              "    .dataframe tbody tr th {\n",
              "        vertical-align: top;\n",
              "    }\n",
              "\n",
              "    .dataframe thead th {\n",
              "        text-align: right;\n",
              "    }\n",
              "</style>\n",
              "<table border=\"1\" class=\"dataframe\">\n",
              "  <thead>\n",
              "    <tr style=\"text-align: right;\">\n",
              "      <th></th>\n",
              "      <th>fresh</th>\n",
              "      <th>rotten</th>\n",
              "    </tr>\n",
              "    <tr>\n",
              "      <th>Vocabulary</th>\n",
              "      <th></th>\n",
              "      <th></th>\n",
              "    </tr>\n",
              "  </thead>\n",
              "  <tbody>\n",
              "    <tr>\n",
              "      <th>featured</th>\n",
              "      <td>37.0</td>\n",
              "      <td>52.0</td>\n",
              "    </tr>\n",
              "    <tr>\n",
              "      <th>cast</th>\n",
              "      <td>3665.0</td>\n",
              "      <td>3012.0</td>\n",
              "    </tr>\n",
              "    <tr>\n",
              "      <th>woodley</th>\n",
              "      <td>62.0</td>\n",
              "      <td>49.0</td>\n",
              "    </tr>\n",
              "    <tr>\n",
              "      <th>really</th>\n",
              "      <td>3151.0</td>\n",
              "      <td>4714.0</td>\n",
              "    </tr>\n",
              "    <tr>\n",
              "      <th>achieves</th>\n",
              "      <td>293.0</td>\n",
              "      <td>159.0</td>\n",
              "    </tr>\n",
              "    <tr>\n",
              "      <th>...</th>\n",
              "      <td>...</td>\n",
              "      <td>...</td>\n",
              "    </tr>\n",
              "    <tr>\n",
              "      <th>kingmaking</th>\n",
              "      <td>1.0</td>\n",
              "      <td>0.0</td>\n",
              "    </tr>\n",
              "    <tr>\n",
              "      <th>remolding</th>\n",
              "      <td>0.0</td>\n",
              "      <td>1.0</td>\n",
              "    </tr>\n",
              "    <tr>\n",
              "      <th>bagging</th>\n",
              "      <td>0.0</td>\n",
              "      <td>1.0</td>\n",
              "    </tr>\n",
              "    <tr>\n",
              "      <th>vaxxers</th>\n",
              "      <td>1.0</td>\n",
              "      <td>0.0</td>\n",
              "    </tr>\n",
              "    <tr>\n",
              "      <th>denialists</th>\n",
              "      <td>1.0</td>\n",
              "      <td>0.0</td>\n",
              "    </tr>\n",
              "  </tbody>\n",
              "</table>\n",
              "<p>71567 rows × 2 columns</p>\n",
              "</div>\n",
              "      <button class=\"colab-df-convert\" onclick=\"convertToInteractive('df-d44fbd65-f0ec-40fb-b326-f229781122e8')\"\n",
              "              title=\"Convert this dataframe to an interactive table.\"\n",
              "              style=\"display:none;\">\n",
              "        \n",
              "  <svg xmlns=\"http://www.w3.org/2000/svg\" height=\"24px\"viewBox=\"0 0 24 24\"\n",
              "       width=\"24px\">\n",
              "    <path d=\"M0 0h24v24H0V0z\" fill=\"none\"/>\n",
              "    <path d=\"M18.56 5.44l.94 2.06.94-2.06 2.06-.94-2.06-.94-.94-2.06-.94 2.06-2.06.94zm-11 1L8.5 8.5l.94-2.06 2.06-.94-2.06-.94L8.5 2.5l-.94 2.06-2.06.94zm10 10l.94 2.06.94-2.06 2.06-.94-2.06-.94-.94-2.06-.94 2.06-2.06.94z\"/><path d=\"M17.41 7.96l-1.37-1.37c-.4-.4-.92-.59-1.43-.59-.52 0-1.04.2-1.43.59L10.3 9.45l-7.72 7.72c-.78.78-.78 2.05 0 2.83L4 21.41c.39.39.9.59 1.41.59.51 0 1.02-.2 1.41-.59l7.78-7.78 2.81-2.81c.8-.78.8-2.07 0-2.86zM5.41 20L4 18.59l7.72-7.72 1.47 1.35L5.41 20z\"/>\n",
              "  </svg>\n",
              "      </button>\n",
              "      \n",
              "  <style>\n",
              "    .colab-df-container {\n",
              "      display:flex;\n",
              "      flex-wrap:wrap;\n",
              "      gap: 12px;\n",
              "    }\n",
              "\n",
              "    .colab-df-convert {\n",
              "      background-color: #E8F0FE;\n",
              "      border: none;\n",
              "      border-radius: 50%;\n",
              "      cursor: pointer;\n",
              "      display: none;\n",
              "      fill: #1967D2;\n",
              "      height: 32px;\n",
              "      padding: 0 0 0 0;\n",
              "      width: 32px;\n",
              "    }\n",
              "\n",
              "    .colab-df-convert:hover {\n",
              "      background-color: #E2EBFA;\n",
              "      box-shadow: 0px 1px 2px rgba(60, 64, 67, 0.3), 0px 1px 3px 1px rgba(60, 64, 67, 0.15);\n",
              "      fill: #174EA6;\n",
              "    }\n",
              "\n",
              "    [theme=dark] .colab-df-convert {\n",
              "      background-color: #3B4455;\n",
              "      fill: #D2E3FC;\n",
              "    }\n",
              "\n",
              "    [theme=dark] .colab-df-convert:hover {\n",
              "      background-color: #434B5C;\n",
              "      box-shadow: 0px 1px 3px 1px rgba(0, 0, 0, 0.15);\n",
              "      filter: drop-shadow(0px 1px 2px rgba(0, 0, 0, 0.3));\n",
              "      fill: #FFFFFF;\n",
              "    }\n",
              "  </style>\n",
              "\n",
              "      <script>\n",
              "        const buttonEl =\n",
              "          document.querySelector('#df-d44fbd65-f0ec-40fb-b326-f229781122e8 button.colab-df-convert');\n",
              "        buttonEl.style.display =\n",
              "          google.colab.kernel.accessAllowed ? 'block' : 'none';\n",
              "\n",
              "        async function convertToInteractive(key) {\n",
              "          const element = document.querySelector('#df-d44fbd65-f0ec-40fb-b326-f229781122e8');\n",
              "          const dataTable =\n",
              "            await google.colab.kernel.invokeFunction('convertToInteractive',\n",
              "                                                     [key], {});\n",
              "          if (!dataTable) return;\n",
              "\n",
              "          const docLinkHtml = 'Like what you see? Visit the ' +\n",
              "            '<a target=\"_blank\" href=https://colab.research.google.com/notebooks/data_table.ipynb>data table notebook</a>'\n",
              "            + ' to learn more about interactive tables.';\n",
              "          element.innerHTML = '';\n",
              "          dataTable['output_type'] = 'display_data';\n",
              "          await google.colab.output.renderOutput(dataTable, element);\n",
              "          const docLink = document.createElement('div');\n",
              "          docLink.innerHTML = docLinkHtml;\n",
              "          element.appendChild(docLink);\n",
              "        }\n",
              "      </script>\n",
              "    </div>\n",
              "  </div>\n",
              "  "
            ]
          },
          "metadata": {},
          "execution_count": 28
        }
      ]
    },
    {
      "cell_type": "code",
      "source": [
        "sum_fresh = likelihoodprob['fresh'].sum()\n",
        "sum_rotten = likelihoodprob['rotten'].sum()\n",
        "print('Sum of fresh : {}'.format(sum_fresh))\n",
        "print('Sum of rotten : {}'.format(sum_rotten))"
      ],
      "metadata": {
        "colab": {
          "base_uri": "https://localhost:8080/"
        },
        "id": "P2zI4xNRkNFj",
        "outputId": "8fc32909-d8cc-4cdc-ec7e-b8f2becb531e"
      },
      "execution_count": 29,
      "outputs": [
        {
          "output_type": "stream",
          "name": "stdout",
          "text": [
            "Sum of fresh : 2453902.0\n",
            "Sum of rotten : 2367389.0\n"
          ]
        }
      ]
    },
    {
      "cell_type": "code",
      "source": [
        "if 'fresh' in likelihoodprob.columns:\n",
        "  likelihoodprob = likelihoodprob.apply(lambda x: x/sum_fresh, axis=1)\n",
        "else:\n",
        "  likelihoodprob = likelihoodprob.apply(lambda x: x/sum_rotten, axis=1)\n",
        "likelihoodprob"
      ],
      "metadata": {
        "id": "n2z5fQw5kOlZ"
      },
      "execution_count": null,
      "outputs": []
    },
    {
      "cell_type": "markdown",
      "source": [
        "###Testing the algorithm on sample user given input data"
      ],
      "metadata": {
        "id": "sJZMvENDknIn"
      }
    },
    {
      "cell_type": "code",
      "source": [
        "review = \"good one\"\n",
        "words=review.split()\n",
        "print(\"List of words in review : {}\".format(list(words)))\n",
        "\n",
        "prob_fresh=1\n",
        "prob_rotten=1\n",
        "prior_type = train_data['Freshness'].value_counts(normalize=True).to_frame().T\n",
        "p_of_fresh=prior_type.iloc[0, 0]\n",
        "p_of_rotten=prior_type.iloc[0, 1]\n",
        "\n",
        "for wd in words:\n",
        "  element_fresh = likelihoodprob.loc[wd, \"fresh\"]\n",
        "  prob_fresh*=element_fresh\n",
        "  element_rotten = likelihoodprob.loc[wd, \"rotten\"]\n",
        "  prob_rotten*=element_rotten\n",
        "\n",
        "final_fresh_prob=prob_fresh*p_of_fresh\n",
        "final_rotten_prob=prob_rotten*p_of_rotten\n",
        "print(\"Prob(words in review|fresh) = {}\".format(final_fresh_prob), \"\\tProb(words in review|rotten) = {}\".format(final_rotten_prob))\n",
        "\n",
        "sol=[]\n",
        "if final_fresh_prob > final_rotten_prob:\n",
        "  sol.append('fresh')\n",
        "else:\n",
        "  sol.append('rotten')\n",
        "print(\"Prediction : {}\".format(sol))"
      ],
      "metadata": {
        "colab": {
          "base_uri": "https://localhost:8080/"
        },
        "id": "0OhSv985kkbn",
        "outputId": "4d2fdfb3-d22a-46da-b30b-44f074de58de"
      },
      "execution_count": 48,
      "outputs": [
        {
          "output_type": "stream",
          "name": "stdout",
          "text": [
            "List of words in review : ['good', 'one']\n",
            "Prob(words in review|fresh) = 1.2742452795650694e-05 \tProb(words in review|rotten) = 9.99335060352259e-06\n",
            "Prediction : ['fresh']\n"
          ]
        }
      ]
    },
    {
      "cell_type": "markdown",
      "source": [
        "###Testing using validation data"
      ],
      "metadata": {
        "id": "EpnV6Cuhkwrd"
      }
    },
    {
      "cell_type": "code",
      "source": [
        "#Reference: https://medium.com/@rangavamsi5/na%C3%AFve-bayes-algorithm-implementation-from-scratch-in-python-7b2cc39268b9\n",
        "\n",
        "valid_prediction = []\n",
        "\n",
        "for s in valid_data['Review']:\n",
        "    words = s.split()\n",
        "    fresh_prob = 1.0\n",
        "    rotten_prob = 1.0\n",
        "\n",
        "    for w in words:\n",
        "        if w in train_vocabulary:\n",
        "            fresh_prob *= likelihoodprob.loc[w, 'fresh']\n",
        "            rotten_prob *= likelihoodprob.loc[w, 'rotten']\n",
        "    fresh_prob *= prior_type.loc['Freshness', 'fresh']\n",
        "    rotten_prob *= prior_type.loc['Freshness', 'rotten']\n",
        "    if fresh_prob > rotten_prob:\n",
        "        valid_prediction.append('fresh')\n",
        "    else:\n",
        "        valid_prediction.append('rotten')\n",
        "\n",
        "print('Generated Accuracy for Valid Data: {}'.format(accuracy_score(valid_data[\"Freshness\"], valid_prediction)))"
      ],
      "metadata": {
        "id": "x6JlLlaZkrdZ",
        "colab": {
          "base_uri": "https://localhost:8080/"
        },
        "outputId": "83ee118e-878c-44a3-a970-5922f6f9acb9"
      },
      "execution_count": 68,
      "outputs": [
        {
          "output_type": "stream",
          "name": "stdout",
          "text": [
            "Generated Accuracy for Valid Data: 0.7763333333333333\n"
          ]
        }
      ]
    },
    {
      "cell_type": "code",
      "source": [
        "print('Generated Accuracy for Valid Data: {}'.format(accuracy_score(valid_data[\"Freshness\"], valid_prediction)))"
      ],
      "metadata": {
        "colab": {
          "base_uri": "https://localhost:8080/"
        },
        "id": "3m8VyKzvyF7n",
        "outputId": "a532966f-cd0f-4cb1-e7e0-2aeafb3b3c7a"
      },
      "execution_count": 69,
      "outputs": [
        {
          "output_type": "stream",
          "name": "stdout",
          "text": [
            "Generated Accuracy for Valid Data: 0.7763333333333333\n"
          ]
        }
      ]
    },
    {
      "cell_type": "markdown",
      "source": [
        "###Repeating the above steps by performing Laplacian smoothing"
      ],
      "metadata": {
        "id": "PkM-zpqamK0_"
      }
    },
    {
      "cell_type": "code",
      "source": [
        "sm_train_vocabulary=[]\n",
        "for lemma, count in all_train_freq_list:\n",
        "    sm_train_vocabulary.append(lemma)\n",
        "print(sm_train_vocabulary[:10])"
      ],
      "metadata": {
        "colab": {
          "base_uri": "https://localhost:8080/"
        },
        "id": "J8UqAW9vlH_g",
        "outputId": "09e243d5-242a-408d-f737-60dd528890d7"
      },
      "execution_count": 122,
      "outputs": [
        {
          "output_type": "stream",
          "name": "stdout",
          "text": [
            "['of', 'the', 'featured', 'cast', 'only', 'woodley', 'really', 'achieves', 'any', 'lasting']\n"
          ]
        }
      ]
    },
    {
      "cell_type": "code",
      "source": [
        "sm_train_wfreqdf=pd.DataFrame(sm_train_vocabulary,columns=[\"Vocabulary\"])\n",
        "sm_train_wfreqdf.head(10)"
      ],
      "metadata": {
        "colab": {
          "base_uri": "https://localhost:8080/",
          "height": 363
        },
        "id": "G-5OLteTmYX9",
        "outputId": "e731bc9b-e650-4f0c-bab0-4441e829d2e0"
      },
      "execution_count": 77,
      "outputs": [
        {
          "output_type": "execute_result",
          "data": {
            "text/plain": [
              "  Vocabulary\n",
              "0         of\n",
              "1        the\n",
              "2   featured\n",
              "3       cast\n",
              "4       only\n",
              "5    woodley\n",
              "6     really\n",
              "7   achieves\n",
              "8        any\n",
              "9    lasting"
            ],
            "text/html": [
              "\n",
              "  <div id=\"df-99f010f4-3850-41a0-b8e8-285bf5092c22\">\n",
              "    <div class=\"colab-df-container\">\n",
              "      <div>\n",
              "<style scoped>\n",
              "    .dataframe tbody tr th:only-of-type {\n",
              "        vertical-align: middle;\n",
              "    }\n",
              "\n",
              "    .dataframe tbody tr th {\n",
              "        vertical-align: top;\n",
              "    }\n",
              "\n",
              "    .dataframe thead th {\n",
              "        text-align: right;\n",
              "    }\n",
              "</style>\n",
              "<table border=\"1\" class=\"dataframe\">\n",
              "  <thead>\n",
              "    <tr style=\"text-align: right;\">\n",
              "      <th></th>\n",
              "      <th>Vocabulary</th>\n",
              "    </tr>\n",
              "  </thead>\n",
              "  <tbody>\n",
              "    <tr>\n",
              "      <th>0</th>\n",
              "      <td>of</td>\n",
              "    </tr>\n",
              "    <tr>\n",
              "      <th>1</th>\n",
              "      <td>the</td>\n",
              "    </tr>\n",
              "    <tr>\n",
              "      <th>2</th>\n",
              "      <td>featured</td>\n",
              "    </tr>\n",
              "    <tr>\n",
              "      <th>3</th>\n",
              "      <td>cast</td>\n",
              "    </tr>\n",
              "    <tr>\n",
              "      <th>4</th>\n",
              "      <td>only</td>\n",
              "    </tr>\n",
              "    <tr>\n",
              "      <th>5</th>\n",
              "      <td>woodley</td>\n",
              "    </tr>\n",
              "    <tr>\n",
              "      <th>6</th>\n",
              "      <td>really</td>\n",
              "    </tr>\n",
              "    <tr>\n",
              "      <th>7</th>\n",
              "      <td>achieves</td>\n",
              "    </tr>\n",
              "    <tr>\n",
              "      <th>8</th>\n",
              "      <td>any</td>\n",
              "    </tr>\n",
              "    <tr>\n",
              "      <th>9</th>\n",
              "      <td>lasting</td>\n",
              "    </tr>\n",
              "  </tbody>\n",
              "</table>\n",
              "</div>\n",
              "      <button class=\"colab-df-convert\" onclick=\"convertToInteractive('df-99f010f4-3850-41a0-b8e8-285bf5092c22')\"\n",
              "              title=\"Convert this dataframe to an interactive table.\"\n",
              "              style=\"display:none;\">\n",
              "        \n",
              "  <svg xmlns=\"http://www.w3.org/2000/svg\" height=\"24px\"viewBox=\"0 0 24 24\"\n",
              "       width=\"24px\">\n",
              "    <path d=\"M0 0h24v24H0V0z\" fill=\"none\"/>\n",
              "    <path d=\"M18.56 5.44l.94 2.06.94-2.06 2.06-.94-2.06-.94-.94-2.06-.94 2.06-2.06.94zm-11 1L8.5 8.5l.94-2.06 2.06-.94-2.06-.94L8.5 2.5l-.94 2.06-2.06.94zm10 10l.94 2.06.94-2.06 2.06-.94-2.06-.94-.94-2.06-.94 2.06-2.06.94z\"/><path d=\"M17.41 7.96l-1.37-1.37c-.4-.4-.92-.59-1.43-.59-.52 0-1.04.2-1.43.59L10.3 9.45l-7.72 7.72c-.78.78-.78 2.05 0 2.83L4 21.41c.39.39.9.59 1.41.59.51 0 1.02-.2 1.41-.59l7.78-7.78 2.81-2.81c.8-.78.8-2.07 0-2.86zM5.41 20L4 18.59l7.72-7.72 1.47 1.35L5.41 20z\"/>\n",
              "  </svg>\n",
              "      </button>\n",
              "      \n",
              "  <style>\n",
              "    .colab-df-container {\n",
              "      display:flex;\n",
              "      flex-wrap:wrap;\n",
              "      gap: 12px;\n",
              "    }\n",
              "\n",
              "    .colab-df-convert {\n",
              "      background-color: #E8F0FE;\n",
              "      border: none;\n",
              "      border-radius: 50%;\n",
              "      cursor: pointer;\n",
              "      display: none;\n",
              "      fill: #1967D2;\n",
              "      height: 32px;\n",
              "      padding: 0 0 0 0;\n",
              "      width: 32px;\n",
              "    }\n",
              "\n",
              "    .colab-df-convert:hover {\n",
              "      background-color: #E2EBFA;\n",
              "      box-shadow: 0px 1px 2px rgba(60, 64, 67, 0.3), 0px 1px 3px 1px rgba(60, 64, 67, 0.15);\n",
              "      fill: #174EA6;\n",
              "    }\n",
              "\n",
              "    [theme=dark] .colab-df-convert {\n",
              "      background-color: #3B4455;\n",
              "      fill: #D2E3FC;\n",
              "    }\n",
              "\n",
              "    [theme=dark] .colab-df-convert:hover {\n",
              "      background-color: #434B5C;\n",
              "      box-shadow: 0px 1px 3px 1px rgba(0, 0, 0, 0.15);\n",
              "      filter: drop-shadow(0px 1px 2px rgba(0, 0, 0, 0.3));\n",
              "      fill: #FFFFFF;\n",
              "    }\n",
              "  </style>\n",
              "\n",
              "      <script>\n",
              "        const buttonEl =\n",
              "          document.querySelector('#df-99f010f4-3850-41a0-b8e8-285bf5092c22 button.colab-df-convert');\n",
              "        buttonEl.style.display =\n",
              "          google.colab.kernel.accessAllowed ? 'block' : 'none';\n",
              "\n",
              "        async function convertToInteractive(key) {\n",
              "          const element = document.querySelector('#df-99f010f4-3850-41a0-b8e8-285bf5092c22');\n",
              "          const dataTable =\n",
              "            await google.colab.kernel.invokeFunction('convertToInteractive',\n",
              "                                                     [key], {});\n",
              "          if (!dataTable) return;\n",
              "\n",
              "          const docLinkHtml = 'Like what you see? Visit the ' +\n",
              "            '<a target=\"_blank\" href=https://colab.research.google.com/notebooks/data_table.ipynb>data table notebook</a>'\n",
              "            + ' to learn more about interactive tables.';\n",
              "          element.innerHTML = '';\n",
              "          dataTable['output_type'] = 'display_data';\n",
              "          await google.colab.output.renderOutput(dataTable, element);\n",
              "          const docLink = document.createElement('div');\n",
              "          docLink.innerHTML = docLinkHtml;\n",
              "          element.appendChild(docLink);\n",
              "        }\n",
              "      </script>\n",
              "    </div>\n",
              "  </div>\n",
              "  "
            ]
          },
          "metadata": {},
          "execution_count": 77
        }
      ]
    },
    {
      "cell_type": "code",
      "source": [
        "freshness_count = train_data['Freshness'].value_counts()\n",
        "print(\"Fresh : {}\".format(freshness_count.values[0]), \"\\tRotten : {}\".format(freshness_count.values[1]))\n",
        "\n",
        "for freshness in freshness_count.index:\n",
        "    print(\"\\nFreshness: {}\".format(freshness))\n",
        "    vocdic_type, freq_cnt_type=get_frequency(train_data, freshness, voclist = sm_train_vocabulary)\n",
        "\n",
        "    freq_dist_list=list(freq_cnt_type.items())\n",
        "\n",
        "    temp = [(lemma, freshness) for lemma, count in freq_dist_list]\n",
        "    voctypedf=pd.DataFrame(vocdic_type.items(),columns=[\"Vocabulary\",freshness])\n",
        "    sm_train_wfreqdf=sm_train_wfreqdf.merge(voctypedf,how=\"left\",on=\"Vocabulary\")\n",
        "\n",
        "print(len(sm_train_wfreqdf))\n",
        "sm_train_wfreqdf.head(20)"
      ],
      "metadata": {
        "colab": {
          "base_uri": "https://localhost:8080/",
          "height": 784
        },
        "id": "I9X0ttLInRd7",
        "outputId": "7e000adb-f825-49a2-fa9f-2ce29af72d2c"
      },
      "execution_count": 78,
      "outputs": [
        {
          "output_type": "stream",
          "name": "stdout",
          "text": [
            "Fresh : 192124 \tRotten : 191876\n",
            "\n",
            "Freshness: fresh\n",
            "\n",
            "Freshness: rotten\n",
            "71716\n"
          ]
        },
        {
          "output_type": "execute_result",
          "data": {
            "text/plain": [
              "   Vocabulary     fresh    rotten\n",
              "0          of  133281.0  116268.0\n",
              "1         the  220965.0  218082.0\n",
              "2    featured      37.0      52.0\n",
              "3        cast    3665.0    3012.0\n",
              "4        only    4414.0    8096.0\n",
              "5     woodley      62.0      49.0\n",
              "6      really    3151.0    4714.0\n",
              "7    achieves     293.0     159.0\n",
              "8         any    3739.0    6063.0\n",
              "9     lasting     142.0     152.0\n",
              "10     impact     532.0     477.0\n",
              "11         in   65182.0   58313.0\n",
              "12       this   31813.0   33909.0\n",
              "13    episode     317.0     742.0\n",
              "14   although    1349.0    1196.0\n",
              "15        ham      43.0     254.0\n",
              "16     fisted      16.0     126.0\n",
              "17    writing     578.0     712.0\n",
              "18  sometimes    1893.0    1067.0\n",
              "19       leaf     796.0    1092.0"
            ],
            "text/html": [
              "\n",
              "  <div id=\"df-bb8d1dd9-ab1f-4d3d-995f-99a7ab551e62\">\n",
              "    <div class=\"colab-df-container\">\n",
              "      <div>\n",
              "<style scoped>\n",
              "    .dataframe tbody tr th:only-of-type {\n",
              "        vertical-align: middle;\n",
              "    }\n",
              "\n",
              "    .dataframe tbody tr th {\n",
              "        vertical-align: top;\n",
              "    }\n",
              "\n",
              "    .dataframe thead th {\n",
              "        text-align: right;\n",
              "    }\n",
              "</style>\n",
              "<table border=\"1\" class=\"dataframe\">\n",
              "  <thead>\n",
              "    <tr style=\"text-align: right;\">\n",
              "      <th></th>\n",
              "      <th>Vocabulary</th>\n",
              "      <th>fresh</th>\n",
              "      <th>rotten</th>\n",
              "    </tr>\n",
              "  </thead>\n",
              "  <tbody>\n",
              "    <tr>\n",
              "      <th>0</th>\n",
              "      <td>of</td>\n",
              "      <td>133281.0</td>\n",
              "      <td>116268.0</td>\n",
              "    </tr>\n",
              "    <tr>\n",
              "      <th>1</th>\n",
              "      <td>the</td>\n",
              "      <td>220965.0</td>\n",
              "      <td>218082.0</td>\n",
              "    </tr>\n",
              "    <tr>\n",
              "      <th>2</th>\n",
              "      <td>featured</td>\n",
              "      <td>37.0</td>\n",
              "      <td>52.0</td>\n",
              "    </tr>\n",
              "    <tr>\n",
              "      <th>3</th>\n",
              "      <td>cast</td>\n",
              "      <td>3665.0</td>\n",
              "      <td>3012.0</td>\n",
              "    </tr>\n",
              "    <tr>\n",
              "      <th>4</th>\n",
              "      <td>only</td>\n",
              "      <td>4414.0</td>\n",
              "      <td>8096.0</td>\n",
              "    </tr>\n",
              "    <tr>\n",
              "      <th>5</th>\n",
              "      <td>woodley</td>\n",
              "      <td>62.0</td>\n",
              "      <td>49.0</td>\n",
              "    </tr>\n",
              "    <tr>\n",
              "      <th>6</th>\n",
              "      <td>really</td>\n",
              "      <td>3151.0</td>\n",
              "      <td>4714.0</td>\n",
              "    </tr>\n",
              "    <tr>\n",
              "      <th>7</th>\n",
              "      <td>achieves</td>\n",
              "      <td>293.0</td>\n",
              "      <td>159.0</td>\n",
              "    </tr>\n",
              "    <tr>\n",
              "      <th>8</th>\n",
              "      <td>any</td>\n",
              "      <td>3739.0</td>\n",
              "      <td>6063.0</td>\n",
              "    </tr>\n",
              "    <tr>\n",
              "      <th>9</th>\n",
              "      <td>lasting</td>\n",
              "      <td>142.0</td>\n",
              "      <td>152.0</td>\n",
              "    </tr>\n",
              "    <tr>\n",
              "      <th>10</th>\n",
              "      <td>impact</td>\n",
              "      <td>532.0</td>\n",
              "      <td>477.0</td>\n",
              "    </tr>\n",
              "    <tr>\n",
              "      <th>11</th>\n",
              "      <td>in</td>\n",
              "      <td>65182.0</td>\n",
              "      <td>58313.0</td>\n",
              "    </tr>\n",
              "    <tr>\n",
              "      <th>12</th>\n",
              "      <td>this</td>\n",
              "      <td>31813.0</td>\n",
              "      <td>33909.0</td>\n",
              "    </tr>\n",
              "    <tr>\n",
              "      <th>13</th>\n",
              "      <td>episode</td>\n",
              "      <td>317.0</td>\n",
              "      <td>742.0</td>\n",
              "    </tr>\n",
              "    <tr>\n",
              "      <th>14</th>\n",
              "      <td>although</td>\n",
              "      <td>1349.0</td>\n",
              "      <td>1196.0</td>\n",
              "    </tr>\n",
              "    <tr>\n",
              "      <th>15</th>\n",
              "      <td>ham</td>\n",
              "      <td>43.0</td>\n",
              "      <td>254.0</td>\n",
              "    </tr>\n",
              "    <tr>\n",
              "      <th>16</th>\n",
              "      <td>fisted</td>\n",
              "      <td>16.0</td>\n",
              "      <td>126.0</td>\n",
              "    </tr>\n",
              "    <tr>\n",
              "      <th>17</th>\n",
              "      <td>writing</td>\n",
              "      <td>578.0</td>\n",
              "      <td>712.0</td>\n",
              "    </tr>\n",
              "    <tr>\n",
              "      <th>18</th>\n",
              "      <td>sometimes</td>\n",
              "      <td>1893.0</td>\n",
              "      <td>1067.0</td>\n",
              "    </tr>\n",
              "    <tr>\n",
              "      <th>19</th>\n",
              "      <td>leaf</td>\n",
              "      <td>796.0</td>\n",
              "      <td>1092.0</td>\n",
              "    </tr>\n",
              "  </tbody>\n",
              "</table>\n",
              "</div>\n",
              "      <button class=\"colab-df-convert\" onclick=\"convertToInteractive('df-bb8d1dd9-ab1f-4d3d-995f-99a7ab551e62')\"\n",
              "              title=\"Convert this dataframe to an interactive table.\"\n",
              "              style=\"display:none;\">\n",
              "        \n",
              "  <svg xmlns=\"http://www.w3.org/2000/svg\" height=\"24px\"viewBox=\"0 0 24 24\"\n",
              "       width=\"24px\">\n",
              "    <path d=\"M0 0h24v24H0V0z\" fill=\"none\"/>\n",
              "    <path d=\"M18.56 5.44l.94 2.06.94-2.06 2.06-.94-2.06-.94-.94-2.06-.94 2.06-2.06.94zm-11 1L8.5 8.5l.94-2.06 2.06-.94-2.06-.94L8.5 2.5l-.94 2.06-2.06.94zm10 10l.94 2.06.94-2.06 2.06-.94-2.06-.94-.94-2.06-.94 2.06-2.06.94z\"/><path d=\"M17.41 7.96l-1.37-1.37c-.4-.4-.92-.59-1.43-.59-.52 0-1.04.2-1.43.59L10.3 9.45l-7.72 7.72c-.78.78-.78 2.05 0 2.83L4 21.41c.39.39.9.59 1.41.59.51 0 1.02-.2 1.41-.59l7.78-7.78 2.81-2.81c.8-.78.8-2.07 0-2.86zM5.41 20L4 18.59l7.72-7.72 1.47 1.35L5.41 20z\"/>\n",
              "  </svg>\n",
              "      </button>\n",
              "      \n",
              "  <style>\n",
              "    .colab-df-container {\n",
              "      display:flex;\n",
              "      flex-wrap:wrap;\n",
              "      gap: 12px;\n",
              "    }\n",
              "\n",
              "    .colab-df-convert {\n",
              "      background-color: #E8F0FE;\n",
              "      border: none;\n",
              "      border-radius: 50%;\n",
              "      cursor: pointer;\n",
              "      display: none;\n",
              "      fill: #1967D2;\n",
              "      height: 32px;\n",
              "      padding: 0 0 0 0;\n",
              "      width: 32px;\n",
              "    }\n",
              "\n",
              "    .colab-df-convert:hover {\n",
              "      background-color: #E2EBFA;\n",
              "      box-shadow: 0px 1px 2px rgba(60, 64, 67, 0.3), 0px 1px 3px 1px rgba(60, 64, 67, 0.15);\n",
              "      fill: #174EA6;\n",
              "    }\n",
              "\n",
              "    [theme=dark] .colab-df-convert {\n",
              "      background-color: #3B4455;\n",
              "      fill: #D2E3FC;\n",
              "    }\n",
              "\n",
              "    [theme=dark] .colab-df-convert:hover {\n",
              "      background-color: #434B5C;\n",
              "      box-shadow: 0px 1px 3px 1px rgba(0, 0, 0, 0.15);\n",
              "      filter: drop-shadow(0px 1px 2px rgba(0, 0, 0, 0.3));\n",
              "      fill: #FFFFFF;\n",
              "    }\n",
              "  </style>\n",
              "\n",
              "      <script>\n",
              "        const buttonEl =\n",
              "          document.querySelector('#df-bb8d1dd9-ab1f-4d3d-995f-99a7ab551e62 button.colab-df-convert');\n",
              "        buttonEl.style.display =\n",
              "          google.colab.kernel.accessAllowed ? 'block' : 'none';\n",
              "\n",
              "        async function convertToInteractive(key) {\n",
              "          const element = document.querySelector('#df-bb8d1dd9-ab1f-4d3d-995f-99a7ab551e62');\n",
              "          const dataTable =\n",
              "            await google.colab.kernel.invokeFunction('convertToInteractive',\n",
              "                                                     [key], {});\n",
              "          if (!dataTable) return;\n",
              "\n",
              "          const docLinkHtml = 'Like what you see? Visit the ' +\n",
              "            '<a target=\"_blank\" href=https://colab.research.google.com/notebooks/data_table.ipynb>data table notebook</a>'\n",
              "            + ' to learn more about interactive tables.';\n",
              "          element.innerHTML = '';\n",
              "          dataTable['output_type'] = 'display_data';\n",
              "          await google.colab.output.renderOutput(dataTable, element);\n",
              "          const docLink = document.createElement('div');\n",
              "          docLink.innerHTML = docLinkHtml;\n",
              "          element.appendChild(docLink);\n",
              "        }\n",
              "      </script>\n",
              "    </div>\n",
              "  </div>\n",
              "  "
            ]
          },
          "metadata": {},
          "execution_count": 78
        }
      ]
    },
    {
      "cell_type": "code",
      "source": [
        "sm_train_wfreqdf"
      ],
      "metadata": {
        "colab": {
          "base_uri": "https://localhost:8080/",
          "height": 424
        },
        "id": "bW3rfvpFU0uU",
        "outputId": "46c9335e-7350-48c1-b2bb-87cf0603cfa6"
      },
      "execution_count": 79,
      "outputs": [
        {
          "output_type": "execute_result",
          "data": {
            "text/plain": [
              "       Vocabulary     fresh    rotten\n",
              "0              of  133281.0  116268.0\n",
              "1             the  220965.0  218082.0\n",
              "2        featured      37.0      52.0\n",
              "3            cast    3665.0    3012.0\n",
              "4            only    4414.0    8096.0\n",
              "...           ...       ...       ...\n",
              "71711  kingmaking       1.0       NaN\n",
              "71712   remolding       NaN       1.0\n",
              "71713     bagging       NaN       1.0\n",
              "71714     vaxxers       1.0       NaN\n",
              "71715  denialists       1.0       NaN\n",
              "\n",
              "[71716 rows x 3 columns]"
            ],
            "text/html": [
              "\n",
              "  <div id=\"df-fe4c3a41-f76d-4b12-b797-503bc0529192\">\n",
              "    <div class=\"colab-df-container\">\n",
              "      <div>\n",
              "<style scoped>\n",
              "    .dataframe tbody tr th:only-of-type {\n",
              "        vertical-align: middle;\n",
              "    }\n",
              "\n",
              "    .dataframe tbody tr th {\n",
              "        vertical-align: top;\n",
              "    }\n",
              "\n",
              "    .dataframe thead th {\n",
              "        text-align: right;\n",
              "    }\n",
              "</style>\n",
              "<table border=\"1\" class=\"dataframe\">\n",
              "  <thead>\n",
              "    <tr style=\"text-align: right;\">\n",
              "      <th></th>\n",
              "      <th>Vocabulary</th>\n",
              "      <th>fresh</th>\n",
              "      <th>rotten</th>\n",
              "    </tr>\n",
              "  </thead>\n",
              "  <tbody>\n",
              "    <tr>\n",
              "      <th>0</th>\n",
              "      <td>of</td>\n",
              "      <td>133281.0</td>\n",
              "      <td>116268.0</td>\n",
              "    </tr>\n",
              "    <tr>\n",
              "      <th>1</th>\n",
              "      <td>the</td>\n",
              "      <td>220965.0</td>\n",
              "      <td>218082.0</td>\n",
              "    </tr>\n",
              "    <tr>\n",
              "      <th>2</th>\n",
              "      <td>featured</td>\n",
              "      <td>37.0</td>\n",
              "      <td>52.0</td>\n",
              "    </tr>\n",
              "    <tr>\n",
              "      <th>3</th>\n",
              "      <td>cast</td>\n",
              "      <td>3665.0</td>\n",
              "      <td>3012.0</td>\n",
              "    </tr>\n",
              "    <tr>\n",
              "      <th>4</th>\n",
              "      <td>only</td>\n",
              "      <td>4414.0</td>\n",
              "      <td>8096.0</td>\n",
              "    </tr>\n",
              "    <tr>\n",
              "      <th>...</th>\n",
              "      <td>...</td>\n",
              "      <td>...</td>\n",
              "      <td>...</td>\n",
              "    </tr>\n",
              "    <tr>\n",
              "      <th>71711</th>\n",
              "      <td>kingmaking</td>\n",
              "      <td>1.0</td>\n",
              "      <td>NaN</td>\n",
              "    </tr>\n",
              "    <tr>\n",
              "      <th>71712</th>\n",
              "      <td>remolding</td>\n",
              "      <td>NaN</td>\n",
              "      <td>1.0</td>\n",
              "    </tr>\n",
              "    <tr>\n",
              "      <th>71713</th>\n",
              "      <td>bagging</td>\n",
              "      <td>NaN</td>\n",
              "      <td>1.0</td>\n",
              "    </tr>\n",
              "    <tr>\n",
              "      <th>71714</th>\n",
              "      <td>vaxxers</td>\n",
              "      <td>1.0</td>\n",
              "      <td>NaN</td>\n",
              "    </tr>\n",
              "    <tr>\n",
              "      <th>71715</th>\n",
              "      <td>denialists</td>\n",
              "      <td>1.0</td>\n",
              "      <td>NaN</td>\n",
              "    </tr>\n",
              "  </tbody>\n",
              "</table>\n",
              "<p>71716 rows × 3 columns</p>\n",
              "</div>\n",
              "      <button class=\"colab-df-convert\" onclick=\"convertToInteractive('df-fe4c3a41-f76d-4b12-b797-503bc0529192')\"\n",
              "              title=\"Convert this dataframe to an interactive table.\"\n",
              "              style=\"display:none;\">\n",
              "        \n",
              "  <svg xmlns=\"http://www.w3.org/2000/svg\" height=\"24px\"viewBox=\"0 0 24 24\"\n",
              "       width=\"24px\">\n",
              "    <path d=\"M0 0h24v24H0V0z\" fill=\"none\"/>\n",
              "    <path d=\"M18.56 5.44l.94 2.06.94-2.06 2.06-.94-2.06-.94-.94-2.06-.94 2.06-2.06.94zm-11 1L8.5 8.5l.94-2.06 2.06-.94-2.06-.94L8.5 2.5l-.94 2.06-2.06.94zm10 10l.94 2.06.94-2.06 2.06-.94-2.06-.94-.94-2.06-.94 2.06-2.06.94z\"/><path d=\"M17.41 7.96l-1.37-1.37c-.4-.4-.92-.59-1.43-.59-.52 0-1.04.2-1.43.59L10.3 9.45l-7.72 7.72c-.78.78-.78 2.05 0 2.83L4 21.41c.39.39.9.59 1.41.59.51 0 1.02-.2 1.41-.59l7.78-7.78 2.81-2.81c.8-.78.8-2.07 0-2.86zM5.41 20L4 18.59l7.72-7.72 1.47 1.35L5.41 20z\"/>\n",
              "  </svg>\n",
              "      </button>\n",
              "      \n",
              "  <style>\n",
              "    .colab-df-container {\n",
              "      display:flex;\n",
              "      flex-wrap:wrap;\n",
              "      gap: 12px;\n",
              "    }\n",
              "\n",
              "    .colab-df-convert {\n",
              "      background-color: #E8F0FE;\n",
              "      border: none;\n",
              "      border-radius: 50%;\n",
              "      cursor: pointer;\n",
              "      display: none;\n",
              "      fill: #1967D2;\n",
              "      height: 32px;\n",
              "      padding: 0 0 0 0;\n",
              "      width: 32px;\n",
              "    }\n",
              "\n",
              "    .colab-df-convert:hover {\n",
              "      background-color: #E2EBFA;\n",
              "      box-shadow: 0px 1px 2px rgba(60, 64, 67, 0.3), 0px 1px 3px 1px rgba(60, 64, 67, 0.15);\n",
              "      fill: #174EA6;\n",
              "    }\n",
              "\n",
              "    [theme=dark] .colab-df-convert {\n",
              "      background-color: #3B4455;\n",
              "      fill: #D2E3FC;\n",
              "    }\n",
              "\n",
              "    [theme=dark] .colab-df-convert:hover {\n",
              "      background-color: #434B5C;\n",
              "      box-shadow: 0px 1px 3px 1px rgba(0, 0, 0, 0.15);\n",
              "      filter: drop-shadow(0px 1px 2px rgba(0, 0, 0, 0.3));\n",
              "      fill: #FFFFFF;\n",
              "    }\n",
              "  </style>\n",
              "\n",
              "      <script>\n",
              "        const buttonEl =\n",
              "          document.querySelector('#df-fe4c3a41-f76d-4b12-b797-503bc0529192 button.colab-df-convert');\n",
              "        buttonEl.style.display =\n",
              "          google.colab.kernel.accessAllowed ? 'block' : 'none';\n",
              "\n",
              "        async function convertToInteractive(key) {\n",
              "          const element = document.querySelector('#df-fe4c3a41-f76d-4b12-b797-503bc0529192');\n",
              "          const dataTable =\n",
              "            await google.colab.kernel.invokeFunction('convertToInteractive',\n",
              "                                                     [key], {});\n",
              "          if (!dataTable) return;\n",
              "\n",
              "          const docLinkHtml = 'Like what you see? Visit the ' +\n",
              "            '<a target=\"_blank\" href=https://colab.research.google.com/notebooks/data_table.ipynb>data table notebook</a>'\n",
              "            + ' to learn more about interactive tables.';\n",
              "          element.innerHTML = '';\n",
              "          dataTable['output_type'] = 'display_data';\n",
              "          await google.colab.output.renderOutput(dataTable, element);\n",
              "          const docLink = document.createElement('div');\n",
              "          docLink.innerHTML = docLinkHtml;\n",
              "          element.appendChild(docLink);\n",
              "        }\n",
              "      </script>\n",
              "    </div>\n",
              "  </div>\n",
              "  "
            ]
          },
          "metadata": {},
          "execution_count": 79
        }
      ]
    },
    {
      "cell_type": "code",
      "source": [
        "#Reference: https://pandas.pydata.org/docs/reference/api/pandas.DataFrame.add.html\n",
        "\n",
        "#Laplacian Smoothing has been performed here by adding 1 to all words to eliminate NaN values\n",
        "st=True\n",
        "sm_likelihoodprob = (\n",
        "    sm_train_wfreqdf.set_index(\"Vocabulary\")\n",
        "    .fillna(0) \n",
        "    .add(1)\n",
        "    if st else sm_train_wfreqdf.set_index(\"Vocabulary\")\n",
        ")\n",
        "sm_likelihoodprob"
      ],
      "metadata": {
        "colab": {
          "base_uri": "https://localhost:8080/",
          "height": 455
        },
        "id": "XjkU2yR6mQqS",
        "outputId": "fc285c6b-3898-43f2-b2c4-4da48f9a17a4"
      },
      "execution_count": 80,
      "outputs": [
        {
          "output_type": "execute_result",
          "data": {
            "text/plain": [
              "               fresh    rotten\n",
              "Vocabulary                    \n",
              "of          133282.0  116269.0\n",
              "the         220966.0  218083.0\n",
              "featured        38.0      53.0\n",
              "cast          3666.0    3013.0\n",
              "only          4415.0    8097.0\n",
              "...              ...       ...\n",
              "kingmaking       2.0       1.0\n",
              "remolding        1.0       2.0\n",
              "bagging          1.0       2.0\n",
              "vaxxers          2.0       1.0\n",
              "denialists       2.0       1.0\n",
              "\n",
              "[71716 rows x 2 columns]"
            ],
            "text/html": [
              "\n",
              "  <div id=\"df-103fe7e1-e9d2-49f5-a058-1d511574a3bc\">\n",
              "    <div class=\"colab-df-container\">\n",
              "      <div>\n",
              "<style scoped>\n",
              "    .dataframe tbody tr th:only-of-type {\n",
              "        vertical-align: middle;\n",
              "    }\n",
              "\n",
              "    .dataframe tbody tr th {\n",
              "        vertical-align: top;\n",
              "    }\n",
              "\n",
              "    .dataframe thead th {\n",
              "        text-align: right;\n",
              "    }\n",
              "</style>\n",
              "<table border=\"1\" class=\"dataframe\">\n",
              "  <thead>\n",
              "    <tr style=\"text-align: right;\">\n",
              "      <th></th>\n",
              "      <th>fresh</th>\n",
              "      <th>rotten</th>\n",
              "    </tr>\n",
              "    <tr>\n",
              "      <th>Vocabulary</th>\n",
              "      <th></th>\n",
              "      <th></th>\n",
              "    </tr>\n",
              "  </thead>\n",
              "  <tbody>\n",
              "    <tr>\n",
              "      <th>of</th>\n",
              "      <td>133282.0</td>\n",
              "      <td>116269.0</td>\n",
              "    </tr>\n",
              "    <tr>\n",
              "      <th>the</th>\n",
              "      <td>220966.0</td>\n",
              "      <td>218083.0</td>\n",
              "    </tr>\n",
              "    <tr>\n",
              "      <th>featured</th>\n",
              "      <td>38.0</td>\n",
              "      <td>53.0</td>\n",
              "    </tr>\n",
              "    <tr>\n",
              "      <th>cast</th>\n",
              "      <td>3666.0</td>\n",
              "      <td>3013.0</td>\n",
              "    </tr>\n",
              "    <tr>\n",
              "      <th>only</th>\n",
              "      <td>4415.0</td>\n",
              "      <td>8097.0</td>\n",
              "    </tr>\n",
              "    <tr>\n",
              "      <th>...</th>\n",
              "      <td>...</td>\n",
              "      <td>...</td>\n",
              "    </tr>\n",
              "    <tr>\n",
              "      <th>kingmaking</th>\n",
              "      <td>2.0</td>\n",
              "      <td>1.0</td>\n",
              "    </tr>\n",
              "    <tr>\n",
              "      <th>remolding</th>\n",
              "      <td>1.0</td>\n",
              "      <td>2.0</td>\n",
              "    </tr>\n",
              "    <tr>\n",
              "      <th>bagging</th>\n",
              "      <td>1.0</td>\n",
              "      <td>2.0</td>\n",
              "    </tr>\n",
              "    <tr>\n",
              "      <th>vaxxers</th>\n",
              "      <td>2.0</td>\n",
              "      <td>1.0</td>\n",
              "    </tr>\n",
              "    <tr>\n",
              "      <th>denialists</th>\n",
              "      <td>2.0</td>\n",
              "      <td>1.0</td>\n",
              "    </tr>\n",
              "  </tbody>\n",
              "</table>\n",
              "<p>71716 rows × 2 columns</p>\n",
              "</div>\n",
              "      <button class=\"colab-df-convert\" onclick=\"convertToInteractive('df-103fe7e1-e9d2-49f5-a058-1d511574a3bc')\"\n",
              "              title=\"Convert this dataframe to an interactive table.\"\n",
              "              style=\"display:none;\">\n",
              "        \n",
              "  <svg xmlns=\"http://www.w3.org/2000/svg\" height=\"24px\"viewBox=\"0 0 24 24\"\n",
              "       width=\"24px\">\n",
              "    <path d=\"M0 0h24v24H0V0z\" fill=\"none\"/>\n",
              "    <path d=\"M18.56 5.44l.94 2.06.94-2.06 2.06-.94-2.06-.94-.94-2.06-.94 2.06-2.06.94zm-11 1L8.5 8.5l.94-2.06 2.06-.94-2.06-.94L8.5 2.5l-.94 2.06-2.06.94zm10 10l.94 2.06.94-2.06 2.06-.94-2.06-.94-.94-2.06-.94 2.06-2.06.94z\"/><path d=\"M17.41 7.96l-1.37-1.37c-.4-.4-.92-.59-1.43-.59-.52 0-1.04.2-1.43.59L10.3 9.45l-7.72 7.72c-.78.78-.78 2.05 0 2.83L4 21.41c.39.39.9.59 1.41.59.51 0 1.02-.2 1.41-.59l7.78-7.78 2.81-2.81c.8-.78.8-2.07 0-2.86zM5.41 20L4 18.59l7.72-7.72 1.47 1.35L5.41 20z\"/>\n",
              "  </svg>\n",
              "      </button>\n",
              "      \n",
              "  <style>\n",
              "    .colab-df-container {\n",
              "      display:flex;\n",
              "      flex-wrap:wrap;\n",
              "      gap: 12px;\n",
              "    }\n",
              "\n",
              "    .colab-df-convert {\n",
              "      background-color: #E8F0FE;\n",
              "      border: none;\n",
              "      border-radius: 50%;\n",
              "      cursor: pointer;\n",
              "      display: none;\n",
              "      fill: #1967D2;\n",
              "      height: 32px;\n",
              "      padding: 0 0 0 0;\n",
              "      width: 32px;\n",
              "    }\n",
              "\n",
              "    .colab-df-convert:hover {\n",
              "      background-color: #E2EBFA;\n",
              "      box-shadow: 0px 1px 2px rgba(60, 64, 67, 0.3), 0px 1px 3px 1px rgba(60, 64, 67, 0.15);\n",
              "      fill: #174EA6;\n",
              "    }\n",
              "\n",
              "    [theme=dark] .colab-df-convert {\n",
              "      background-color: #3B4455;\n",
              "      fill: #D2E3FC;\n",
              "    }\n",
              "\n",
              "    [theme=dark] .colab-df-convert:hover {\n",
              "      background-color: #434B5C;\n",
              "      box-shadow: 0px 1px 3px 1px rgba(0, 0, 0, 0.15);\n",
              "      filter: drop-shadow(0px 1px 2px rgba(0, 0, 0, 0.3));\n",
              "      fill: #FFFFFF;\n",
              "    }\n",
              "  </style>\n",
              "\n",
              "      <script>\n",
              "        const buttonEl =\n",
              "          document.querySelector('#df-103fe7e1-e9d2-49f5-a058-1d511574a3bc button.colab-df-convert');\n",
              "        buttonEl.style.display =\n",
              "          google.colab.kernel.accessAllowed ? 'block' : 'none';\n",
              "\n",
              "        async function convertToInteractive(key) {\n",
              "          const element = document.querySelector('#df-103fe7e1-e9d2-49f5-a058-1d511574a3bc');\n",
              "          const dataTable =\n",
              "            await google.colab.kernel.invokeFunction('convertToInteractive',\n",
              "                                                     [key], {});\n",
              "          if (!dataTable) return;\n",
              "\n",
              "          const docLinkHtml = 'Like what you see? Visit the ' +\n",
              "            '<a target=\"_blank\" href=https://colab.research.google.com/notebooks/data_table.ipynb>data table notebook</a>'\n",
              "            + ' to learn more about interactive tables.';\n",
              "          element.innerHTML = '';\n",
              "          dataTable['output_type'] = 'display_data';\n",
              "          await google.colab.output.renderOutput(dataTable, element);\n",
              "          const docLink = document.createElement('div');\n",
              "          docLink.innerHTML = docLinkHtml;\n",
              "          element.appendChild(docLink);\n",
              "        }\n",
              "      </script>\n",
              "    </div>\n",
              "  </div>\n",
              "  "
            ]
          },
          "metadata": {},
          "execution_count": 80
        }
      ]
    },
    {
      "cell_type": "code",
      "source": [
        "sm_sum_fresh = sm_likelihoodprob['fresh'].sum()\n",
        "sm_sum_rotten = sm_likelihoodprob['rotten'].sum()\n",
        "print('Sum of fresh : {}'.format(sm_sum_fresh))\n",
        "print('Sum of rotten : {}'.format(sm_sum_rotten))"
      ],
      "metadata": {
        "id": "lKO_LlwZm4ql",
        "colab": {
          "base_uri": "https://localhost:8080/"
        },
        "outputId": "0b473468-5f78-4811-e718-c5fe19389d9c"
      },
      "execution_count": 81,
      "outputs": [
        {
          "output_type": "stream",
          "name": "stdout",
          "text": [
            "Sum of fresh : 4461794.0\n",
            "Sum of rotten : 4376763.0\n"
          ]
        }
      ]
    },
    {
      "cell_type": "code",
      "source": [
        "if 'fresh' in sm_likelihoodprob.columns:\n",
        "  sm_likelihoodprob = sm_likelihoodprob.apply(lambda x: x/sm_sum_fresh, axis=1)\n",
        "else:\n",
        "  sm_likelihoodprob = sm_likelihoodprob.apply(lambda x: x/sm_sum_rotten, axis=1)\n",
        "sm_likelihoodprob"
      ],
      "metadata": {
        "colab": {
          "base_uri": "https://localhost:8080/",
          "height": 455
        },
        "id": "vm7g3DfJVGKO",
        "outputId": "7ff104e9-dc22-40d2-d7e7-cce36665bb3d"
      },
      "execution_count": 82,
      "outputs": [
        {
          "output_type": "execute_result",
          "data": {
            "text/plain": [
              "                   fresh        rotten\n",
              "Vocabulary                            \n",
              "of          2.987184e-02  2.605880e-02\n",
              "the         4.952403e-02  4.887787e-02\n",
              "featured    8.516754e-06  1.187863e-05\n",
              "cast        8.216426e-04  6.752889e-04\n",
              "only        9.895123e-04  1.814741e-03\n",
              "...                  ...           ...\n",
              "kingmaking  4.482502e-07  2.241251e-07\n",
              "remolding   2.241251e-07  4.482502e-07\n",
              "bagging     2.241251e-07  4.482502e-07\n",
              "vaxxers     4.482502e-07  2.241251e-07\n",
              "denialists  4.482502e-07  2.241251e-07\n",
              "\n",
              "[71716 rows x 2 columns]"
            ],
            "text/html": [
              "\n",
              "  <div id=\"df-f27b03f1-a580-44ba-a7b5-63f1cc31e7bc\">\n",
              "    <div class=\"colab-df-container\">\n",
              "      <div>\n",
              "<style scoped>\n",
              "    .dataframe tbody tr th:only-of-type {\n",
              "        vertical-align: middle;\n",
              "    }\n",
              "\n",
              "    .dataframe tbody tr th {\n",
              "        vertical-align: top;\n",
              "    }\n",
              "\n",
              "    .dataframe thead th {\n",
              "        text-align: right;\n",
              "    }\n",
              "</style>\n",
              "<table border=\"1\" class=\"dataframe\">\n",
              "  <thead>\n",
              "    <tr style=\"text-align: right;\">\n",
              "      <th></th>\n",
              "      <th>fresh</th>\n",
              "      <th>rotten</th>\n",
              "    </tr>\n",
              "    <tr>\n",
              "      <th>Vocabulary</th>\n",
              "      <th></th>\n",
              "      <th></th>\n",
              "    </tr>\n",
              "  </thead>\n",
              "  <tbody>\n",
              "    <tr>\n",
              "      <th>of</th>\n",
              "      <td>2.987184e-02</td>\n",
              "      <td>2.605880e-02</td>\n",
              "    </tr>\n",
              "    <tr>\n",
              "      <th>the</th>\n",
              "      <td>4.952403e-02</td>\n",
              "      <td>4.887787e-02</td>\n",
              "    </tr>\n",
              "    <tr>\n",
              "      <th>featured</th>\n",
              "      <td>8.516754e-06</td>\n",
              "      <td>1.187863e-05</td>\n",
              "    </tr>\n",
              "    <tr>\n",
              "      <th>cast</th>\n",
              "      <td>8.216426e-04</td>\n",
              "      <td>6.752889e-04</td>\n",
              "    </tr>\n",
              "    <tr>\n",
              "      <th>only</th>\n",
              "      <td>9.895123e-04</td>\n",
              "      <td>1.814741e-03</td>\n",
              "    </tr>\n",
              "    <tr>\n",
              "      <th>...</th>\n",
              "      <td>...</td>\n",
              "      <td>...</td>\n",
              "    </tr>\n",
              "    <tr>\n",
              "      <th>kingmaking</th>\n",
              "      <td>4.482502e-07</td>\n",
              "      <td>2.241251e-07</td>\n",
              "    </tr>\n",
              "    <tr>\n",
              "      <th>remolding</th>\n",
              "      <td>2.241251e-07</td>\n",
              "      <td>4.482502e-07</td>\n",
              "    </tr>\n",
              "    <tr>\n",
              "      <th>bagging</th>\n",
              "      <td>2.241251e-07</td>\n",
              "      <td>4.482502e-07</td>\n",
              "    </tr>\n",
              "    <tr>\n",
              "      <th>vaxxers</th>\n",
              "      <td>4.482502e-07</td>\n",
              "      <td>2.241251e-07</td>\n",
              "    </tr>\n",
              "    <tr>\n",
              "      <th>denialists</th>\n",
              "      <td>4.482502e-07</td>\n",
              "      <td>2.241251e-07</td>\n",
              "    </tr>\n",
              "  </tbody>\n",
              "</table>\n",
              "<p>71716 rows × 2 columns</p>\n",
              "</div>\n",
              "      <button class=\"colab-df-convert\" onclick=\"convertToInteractive('df-f27b03f1-a580-44ba-a7b5-63f1cc31e7bc')\"\n",
              "              title=\"Convert this dataframe to an interactive table.\"\n",
              "              style=\"display:none;\">\n",
              "        \n",
              "  <svg xmlns=\"http://www.w3.org/2000/svg\" height=\"24px\"viewBox=\"0 0 24 24\"\n",
              "       width=\"24px\">\n",
              "    <path d=\"M0 0h24v24H0V0z\" fill=\"none\"/>\n",
              "    <path d=\"M18.56 5.44l.94 2.06.94-2.06 2.06-.94-2.06-.94-.94-2.06-.94 2.06-2.06.94zm-11 1L8.5 8.5l.94-2.06 2.06-.94-2.06-.94L8.5 2.5l-.94 2.06-2.06.94zm10 10l.94 2.06.94-2.06 2.06-.94-2.06-.94-.94-2.06-.94 2.06-2.06.94z\"/><path d=\"M17.41 7.96l-1.37-1.37c-.4-.4-.92-.59-1.43-.59-.52 0-1.04.2-1.43.59L10.3 9.45l-7.72 7.72c-.78.78-.78 2.05 0 2.83L4 21.41c.39.39.9.59 1.41.59.51 0 1.02-.2 1.41-.59l7.78-7.78 2.81-2.81c.8-.78.8-2.07 0-2.86zM5.41 20L4 18.59l7.72-7.72 1.47 1.35L5.41 20z\"/>\n",
              "  </svg>\n",
              "      </button>\n",
              "      \n",
              "  <style>\n",
              "    .colab-df-container {\n",
              "      display:flex;\n",
              "      flex-wrap:wrap;\n",
              "      gap: 12px;\n",
              "    }\n",
              "\n",
              "    .colab-df-convert {\n",
              "      background-color: #E8F0FE;\n",
              "      border: none;\n",
              "      border-radius: 50%;\n",
              "      cursor: pointer;\n",
              "      display: none;\n",
              "      fill: #1967D2;\n",
              "      height: 32px;\n",
              "      padding: 0 0 0 0;\n",
              "      width: 32px;\n",
              "    }\n",
              "\n",
              "    .colab-df-convert:hover {\n",
              "      background-color: #E2EBFA;\n",
              "      box-shadow: 0px 1px 2px rgba(60, 64, 67, 0.3), 0px 1px 3px 1px rgba(60, 64, 67, 0.15);\n",
              "      fill: #174EA6;\n",
              "    }\n",
              "\n",
              "    [theme=dark] .colab-df-convert {\n",
              "      background-color: #3B4455;\n",
              "      fill: #D2E3FC;\n",
              "    }\n",
              "\n",
              "    [theme=dark] .colab-df-convert:hover {\n",
              "      background-color: #434B5C;\n",
              "      box-shadow: 0px 1px 3px 1px rgba(0, 0, 0, 0.15);\n",
              "      filter: drop-shadow(0px 1px 2px rgba(0, 0, 0, 0.3));\n",
              "      fill: #FFFFFF;\n",
              "    }\n",
              "  </style>\n",
              "\n",
              "      <script>\n",
              "        const buttonEl =\n",
              "          document.querySelector('#df-f27b03f1-a580-44ba-a7b5-63f1cc31e7bc button.colab-df-convert');\n",
              "        buttonEl.style.display =\n",
              "          google.colab.kernel.accessAllowed ? 'block' : 'none';\n",
              "\n",
              "        async function convertToInteractive(key) {\n",
              "          const element = document.querySelector('#df-f27b03f1-a580-44ba-a7b5-63f1cc31e7bc');\n",
              "          const dataTable =\n",
              "            await google.colab.kernel.invokeFunction('convertToInteractive',\n",
              "                                                     [key], {});\n",
              "          if (!dataTable) return;\n",
              "\n",
              "          const docLinkHtml = 'Like what you see? Visit the ' +\n",
              "            '<a target=\"_blank\" href=https://colab.research.google.com/notebooks/data_table.ipynb>data table notebook</a>'\n",
              "            + ' to learn more about interactive tables.';\n",
              "          element.innerHTML = '';\n",
              "          dataTable['output_type'] = 'display_data';\n",
              "          await google.colab.output.renderOutput(dataTable, element);\n",
              "          const docLink = document.createElement('div');\n",
              "          docLink.innerHTML = docLinkHtml;\n",
              "          element.appendChild(docLink);\n",
              "        }\n",
              "      </script>\n",
              "    </div>\n",
              "  </div>\n",
              "  "
            ]
          },
          "metadata": {},
          "execution_count": 82
        }
      ]
    },
    {
      "cell_type": "code",
      "source": [
        "sm_valid_prediction = []\n",
        "\n",
        "for s in valid_data['Review']:\n",
        "    words = s.split()\n",
        "    fresh_prob = 1.0\n",
        "    rotten_prob = 1.0\n",
        "\n",
        "    for w in words:\n",
        "        if w in sm_train_vocabulary:\n",
        "            fresh_prob *= sm_likelihoodprob.loc[w, 'fresh']\n",
        "            rotten_prob *= sm_likelihoodprob.loc[w, 'rotten']\n",
        "    fresh_prob *= prior_type.loc['Freshness', 'fresh']\n",
        "    rotten_prob *= prior_type.loc['Freshness', 'rotten']\n",
        "    if fresh_prob > rotten_prob:\n",
        "        sm_valid_prediction.append('fresh')\n",
        "    else:\n",
        "        sm_valid_prediction.append('rotten')\n",
        "\n",
        "print('Generated Accuracy for Valid Data: {}'.format(accuracy_score(valid_data[\"Freshness\"], sm_valid_prediction)))"
      ],
      "metadata": {
        "id": "p3pwUkcWVnhN"
      },
      "execution_count": null,
      "outputs": []
    },
    {
      "cell_type": "code",
      "source": [
        "print('Generated Accuracy for Valid Data: {}'.format(accuracy_score(valid_data[\"Freshness\"], sm_valid_prediction)))"
      ],
      "metadata": {
        "colab": {
          "base_uri": "https://localhost:8080/"
        },
        "id": "Af0nU5vyg5HO",
        "outputId": "43420d34-4282-491c-8a66-679c1aa38fcb"
      },
      "execution_count": 89,
      "outputs": [
        {
          "output_type": "stream",
          "name": "stdout",
          "text": [
            "Generated Accuracy for Valid Data: 0.7797083333333333\n"
          ]
        }
      ]
    },
    {
      "cell_type": "markdown",
      "source": [
        "###Testing using Test Data"
      ],
      "metadata": {
        "id": "wDqilOVIeMgY"
      }
    },
    {
      "cell_type": "code",
      "source": [
        "#Before Smoothing\n",
        "test_prediction = []\n",
        "\n",
        "for s in test_data['Review']:\n",
        "    words = s.split()\n",
        "    fresh_prob = 1.0\n",
        "    rotten_prob = 1.0\n",
        "\n",
        "    for w in words:\n",
        "        if w in train_vocabulary:\n",
        "            fresh_prob *= likelihoodprob.loc[w, 'fresh']\n",
        "            rotten_prob *= likelihoodprob.loc[w, 'rotten']\n",
        "    fresh_prob *= prior_type.loc['Freshness', 'fresh']\n",
        "    rotten_prob *= prior_type.loc['Freshness', 'rotten']\n",
        "    if fresh_prob > rotten_prob:\n",
        "        test_prediction.append('fresh')\n",
        "    else:\n",
        "        test_prediction.append('rotten')\n",
        "\n",
        "print('Generated Accuracy for Test Data: {}'.format(accuracy_score(test_data[\"Freshness\"], test_prediction)))"
      ],
      "metadata": {
        "id": "Dk2EWrydk2MD",
        "colab": {
          "base_uri": "https://localhost:8080/"
        },
        "outputId": "ef84db78-dc17-49b4-c91c-ba94ac19a0f9"
      },
      "execution_count": 90,
      "outputs": [
        {
          "output_type": "stream",
          "name": "stdout",
          "text": [
            "Generated Accuracy for Test Data: 0.7748958333333333\n"
          ]
        }
      ]
    },
    {
      "cell_type": "code",
      "source": [
        "print('Generated Accuracy for Test Data: {}'.format(accuracy_score(test_data[\"Freshness\"], test_prediction)))"
      ],
      "metadata": {
        "colab": {
          "base_uri": "https://localhost:8080/"
        },
        "id": "Mmq3YGU8yIWz",
        "outputId": "e484a5eb-997a-454c-9f1f-072e8f5072f6"
      },
      "execution_count": null,
      "outputs": [
        {
          "output_type": "stream",
          "name": "stdout",
          "text": [
            "Generated Accuracy for Test Data: 0.7748958333333333\n"
          ]
        }
      ]
    },
    {
      "cell_type": "code",
      "source": [
        "#After Smoothing\n",
        "sm_test_prediction = []\n",
        "\n",
        "for s in test_data['Review']:\n",
        "    words = s.split()\n",
        "    fresh_prob = 1.0\n",
        "    rotten_prob = 1.0\n",
        "\n",
        "    for w in words:\n",
        "        if w in sm_train_vocabulary:\n",
        "            fresh_prob *= sm_likelihoodprob.loc[w, 'fresh']\n",
        "            rotten_prob *= sm_likelihoodprob.loc[w, 'rotten']\n",
        "    fresh_prob *= prior_type.loc['Freshness', 'fresh']\n",
        "    rotten_prob *= prior_type.loc['Freshness', 'rotten']\n",
        "    if fresh_prob > rotten_prob:\n",
        "        sm_test_prediction.append('fresh')\n",
        "    else:\n",
        "        sm_test_prediction.append('rotten')\n",
        "\n",
        "print('Generated Accuracy for Test Data: {}'.format(accuracy_score(test_data[\"Freshness\"], sm_test_prediction)))"
      ],
      "metadata": {
        "colab": {
          "base_uri": "https://localhost:8080/"
        },
        "id": "6BJmN_WqVJzz",
        "outputId": "299c3a6f-a6fb-437d-97d7-5f81f97068a6"
      },
      "execution_count": 87,
      "outputs": [
        {
          "output_type": "stream",
          "name": "stdout",
          "text": [
            "Generated Accuracy for Test Data: 0.7829375\n"
          ]
        }
      ]
    },
    {
      "cell_type": "code",
      "source": [],
      "metadata": {
        "id": "-HKC8HLXvK_6"
      },
      "execution_count": 96,
      "outputs": []
    },
    {
      "cell_type": "markdown",
      "source": [
        "###Comparison of performance after and before smoothing"
      ],
      "metadata": {
        "id": "D1v2Cu-4hBss"
      }
    },
    {
      "cell_type": "code",
      "source": [
        "import matplotlib.pyplot as plt\n",
        "from sklearn.metrics import precision_score, recall_score, f1_score\n",
        "\n",
        "precision = precision_score(test_data[\"Freshness\"], test_prediction, pos_label='fresh')\n",
        "recall = recall_score(test_data[\"Freshness\"], test_prediction, pos_label='fresh')\n",
        "f1 = f1_score(test_data[\"Freshness\"], test_prediction, pos_label='fresh')\n",
        "\n",
        "sm_precision = precision_score(test_data[\"Freshness\"], sm_test_prediction, pos_label='fresh')\n",
        "sm_recall = recall_score(test_data[\"Freshness\"], sm_test_prediction, pos_label='fresh')\n",
        "sm_f1 = f1_score(test_data[\"Freshness\"], sm_test_prediction, pos_label='fresh')\n",
        "\n",
        "accuracy=accuracy_score(test_data[\"Freshness\"], test_prediction)\n",
        "sm_accuracy=accuracy_score(test_data[\"Freshness\"], sm_test_prediction)"
      ],
      "metadata": {
        "id": "ACCC1cVDnaCi"
      },
      "execution_count": 110,
      "outputs": []
    },
    {
      "cell_type": "code",
      "source": [
        "#Before Smoothing\n",
        "model1_test=[]\n",
        "model1_test.append(accuracy)\n",
        "model1_test.append(precision)\n",
        "model1_test.append(recall)\n",
        "model1_test.append(f1)\n",
        "\n",
        "#After Smoothing\n",
        "model2_test=[]\n",
        "model2_test.append(sm_accuracy)\n",
        "model2_test.append(sm_precision)\n",
        "model2_test.append(sm_recall)\n",
        "model2_test.append(sm_f1)\n",
        "\n",
        "#Plot data\n",
        "plt.plot(model1_test, label='Before Smoothing Test performance')\n",
        "plt.plot(model2_test, label='After Smoothing Test performance')\n",
        "\n",
        "# Plot title and labels\n",
        "plt.title('Model Comparison')\n",
        "plt.xlabel('Model')\n",
        "plt.ylabel('Performance')\n",
        "plt.legend()\n",
        "plt.show()"
      ],
      "metadata": {
        "colab": {
          "base_uri": "https://localhost:8080/",
          "height": 472
        },
        "id": "wtir9VbxhGHv",
        "outputId": "b8ea2cc0-4f80-4f02-d8df-05414e701ef6"
      },
      "execution_count": 104,
      "outputs": [
        {
          "output_type": "display_data",
          "data": {
            "text/plain": [
              "<Figure size 640x480 with 1 Axes>"
            ],
            "image/png": "[encoded data removed]"
          },
          "metadata": {}
        }
      ]
    },
    {
      "cell_type": "code",
      "source": [
        "#Reference: https://docs.scipy.org/doc/scipy/reference/generated/scipy.stats.wilcoxon.html\n",
        "\n",
        "#Performance testing using Wilcoxon\n",
        "from scipy.stats import wilcoxon\n",
        "stat, p = wilcoxon(model1_test, model2_test)\n",
        "print(\"Statistics : {}\".format(stat), \"\\tpvalue : {}\".format(p))\n",
        "#Performance interpretation\n",
        "alpha = 0.05\n",
        "if p > alpha:\n",
        "    print('No significant difference after smoothing')\n",
        "else:\n",
        "    print('There is a significant difference after smoothing')"
      ],
      "metadata": {
        "colab": {
          "base_uri": "https://localhost:8080/"
        },
        "id": "mRw2s7Ewmv39",
        "outputId": "faa21ad8-2110-4220-b9f6-c8dba525e45a"
      },
      "execution_count": 109,
      "outputs": [
        {
          "output_type": "stream",
          "name": "stdout",
          "text": [
            "Statistics : 0.0 \tpvalue : 0.125\n",
            "No significant difference after smoothing\n"
          ]
        }
      ]
    },
    {
      "cell_type": "markdown",
      "source": [
        "###Top 10 words that predicted each class"
      ],
      "metadata": {
        "id": "9YJTqsHjk5Fv"
      }
    },
    {
      "cell_type": "markdown",
      "source": [
        "Posterior probability P(Class|Word) = P(Word|Class) * P(Class) / P(Word) "
      ],
      "metadata": {
        "id": "dPVFiXij1pQl"
      }
    },
    {
      "cell_type": "code",
      "source": [
        "posterior_prob = pd.DataFrame(columns=['Word', 'Fresh_prob', 'Rotten_prob'])\n",
        "\n",
        "for word, prob in likelihoodprob.iterrows():\n",
        "    mar_row = marginal_prob.loc[word]\n",
        "    mar_prob = mar_row[0]\n",
        "\n",
        "    new_row = {'Word': word, 'Fresh_prob': prob[0]* p_of_fresh/mar_prob, 'Rotten_prob': prob[1]* p_of_rotten /mar_prob}\n",
        "\n",
        "    posterior_prob = posterior_prob.append(new_row, ignore_index=True)\n"
      ],
      "metadata": {
        "id": "0ZJUsbIT3mN5"
      },
      "execution_count": null,
      "outputs": []
    },
    {
      "cell_type": "code",
      "source": [
        "posterior_prob.head() "
      ],
      "metadata": {
        "colab": {
          "base_uri": "https://localhost:8080/",
          "height": 206
        },
        "id": "Xhj77O0u9c-w",
        "outputId": "5dbb7d8f-3176-4d3e-efd2-9d9469a6d5a7"
      },
      "execution_count": 126,
      "outputs": [
        {
          "output_type": "execute_result",
          "data": {
            "text/plain": [
              "       Word  Fresh_prob  Rotten_prob\n",
              "0  featured    0.408666     0.573600\n",
              "1      cast    0.539572     0.442863\n",
              "2   woodley    0.549067     0.433380\n",
              "3    really    0.393828     0.588419\n",
              "4  achieves    0.637215     0.345346"
            ],
            "text/html": [
              "\n",
              "  <div id=\"df-cc44aa94-497c-488a-bf46-3ca9262987b5\">\n",
              "    <div class=\"colab-df-container\">\n",
              "      <div>\n",
              "<style scoped>\n",
              "    .dataframe tbody tr th:only-of-type {\n",
              "        vertical-align: middle;\n",
              "    }\n",
              "\n",
              "    .dataframe tbody tr th {\n",
              "        vertical-align: top;\n",
              "    }\n",
              "\n",
              "    .dataframe thead th {\n",
              "        text-align: right;\n",
              "    }\n",
              "</style>\n",
              "<table border=\"1\" class=\"dataframe\">\n",
              "  <thead>\n",
              "    <tr style=\"text-align: right;\">\n",
              "      <th></th>\n",
              "      <th>Word</th>\n",
              "      <th>Fresh_prob</th>\n",
              "      <th>Rotten_prob</th>\n",
              "    </tr>\n",
              "  </thead>\n",
              "  <tbody>\n",
              "    <tr>\n",
              "      <th>0</th>\n",
              "      <td>featured</td>\n",
              "      <td>0.408666</td>\n",
              "      <td>0.573600</td>\n",
              "    </tr>\n",
              "    <tr>\n",
              "      <th>1</th>\n",
              "      <td>cast</td>\n",
              "      <td>0.539572</td>\n",
              "      <td>0.442863</td>\n",
              "    </tr>\n",
              "    <tr>\n",
              "      <th>2</th>\n",
              "      <td>woodley</td>\n",
              "      <td>0.549067</td>\n",
              "      <td>0.433380</td>\n",
              "    </tr>\n",
              "    <tr>\n",
              "      <th>3</th>\n",
              "      <td>really</td>\n",
              "      <td>0.393828</td>\n",
              "      <td>0.588419</td>\n",
              "    </tr>\n",
              "    <tr>\n",
              "      <th>4</th>\n",
              "      <td>achieves</td>\n",
              "      <td>0.637215</td>\n",
              "      <td>0.345346</td>\n",
              "    </tr>\n",
              "  </tbody>\n",
              "</table>\n",
              "</div>\n",
              "      <button class=\"colab-df-convert\" onclick=\"convertToInteractive('df-cc44aa94-497c-488a-bf46-3ca9262987b5')\"\n",
              "              title=\"Convert this dataframe to an interactive table.\"\n",
              "              style=\"display:none;\">\n",
              "        \n",
              "  <svg xmlns=\"http://www.w3.org/2000/svg\" height=\"24px\"viewBox=\"0 0 24 24\"\n",
              "       width=\"24px\">\n",
              "    <path d=\"M0 0h24v24H0V0z\" fill=\"none\"/>\n",
              "    <path d=\"M18.56 5.44l.94 2.06.94-2.06 2.06-.94-2.06-.94-.94-2.06-.94 2.06-2.06.94zm-11 1L8.5 8.5l.94-2.06 2.06-.94-2.06-.94L8.5 2.5l-.94 2.06-2.06.94zm10 10l.94 2.06.94-2.06 2.06-.94-2.06-.94-.94-2.06-.94 2.06-2.06.94z\"/><path d=\"M17.41 7.96l-1.37-1.37c-.4-.4-.92-.59-1.43-.59-.52 0-1.04.2-1.43.59L10.3 9.45l-7.72 7.72c-.78.78-.78 2.05 0 2.83L4 21.41c.39.39.9.59 1.41.59.51 0 1.02-.2 1.41-.59l7.78-7.78 2.81-2.81c.8-.78.8-2.07 0-2.86zM5.41 20L4 18.59l7.72-7.72 1.47 1.35L5.41 20z\"/>\n",
              "  </svg>\n",
              "      </button>\n",
              "      \n",
              "  <style>\n",
              "    .colab-df-container {\n",
              "      display:flex;\n",
              "      flex-wrap:wrap;\n",
              "      gap: 12px;\n",
              "    }\n",
              "\n",
              "    .colab-df-convert {\n",
              "      background-color: #E8F0FE;\n",
              "      border: none;\n",
              "      border-radius: 50%;\n",
              "      cursor: pointer;\n",
              "      display: none;\n",
              "      fill: #1967D2;\n",
              "      height: 32px;\n",
              "      padding: 0 0 0 0;\n",
              "      width: 32px;\n",
              "    }\n",
              "\n",
              "    .colab-df-convert:hover {\n",
              "      background-color: #E2EBFA;\n",
              "      box-shadow: 0px 1px 2px rgba(60, 64, 67, 0.3), 0px 1px 3px 1px rgba(60, 64, 67, 0.15);\n",
              "      fill: #174EA6;\n",
              "    }\n",
              "\n",
              "    [theme=dark] .colab-df-convert {\n",
              "      background-color: #3B4455;\n",
              "      fill: #D2E3FC;\n",
              "    }\n",
              "\n",
              "    [theme=dark] .colab-df-convert:hover {\n",
              "      background-color: #434B5C;\n",
              "      box-shadow: 0px 1px 3px 1px rgba(0, 0, 0, 0.15);\n",
              "      filter: drop-shadow(0px 1px 2px rgba(0, 0, 0, 0.3));\n",
              "      fill: #FFFFFF;\n",
              "    }\n",
              "  </style>\n",
              "\n",
              "      <script>\n",
              "        const buttonEl =\n",
              "          document.querySelector('#df-cc44aa94-497c-488a-bf46-3ca9262987b5 button.colab-df-convert');\n",
              "        buttonEl.style.display =\n",
              "          google.colab.kernel.accessAllowed ? 'block' : 'none';\n",
              "\n",
              "        async function convertToInteractive(key) {\n",
              "          const element = document.querySelector('#df-cc44aa94-497c-488a-bf46-3ca9262987b5');\n",
              "          const dataTable =\n",
              "            await google.colab.kernel.invokeFunction('convertToInteractive',\n",
              "                                                     [key], {});\n",
              "          if (!dataTable) return;\n",
              "\n",
              "          const docLinkHtml = 'Like what you see? Visit the ' +\n",
              "            '<a target=\"_blank\" href=https://colab.research.google.com/notebooks/data_table.ipynb>data table notebook</a>'\n",
              "            + ' to learn more about interactive tables.';\n",
              "          element.innerHTML = '';\n",
              "          dataTable['output_type'] = 'display_data';\n",
              "          await google.colab.output.renderOutput(dataTable, element);\n",
              "          const docLink = document.createElement('div');\n",
              "          docLink.innerHTML = docLinkHtml;\n",
              "          element.appendChild(docLink);\n",
              "        }\n",
              "      </script>\n",
              "    </div>\n",
              "  </div>\n",
              "  "
            ]
          },
          "metadata": {},
          "execution_count": 126
        }
      ]
    },
    {
      "cell_type": "code",
      "source": [
        "# Top 10 words under \"fresh\"\n",
        "top_fresh = posterior_prob.nlargest(10, \"Fresh_prob\")\n",
        "top_fresh_word = list(top_fresh.loc[:, \"Word\"])\n",
        "\n",
        "# Top 10 words under \"rotten\"\n",
        "top_rotten = posterior_prob.nlargest(10, \"Rotten_prob\")\n",
        "top_rotten_word = list(top_rotten.loc[:, \"Word\"])\n",
        "\n",
        "print(\"The Top 10 words that predict fresh : \\n{}\".format(top_fresh_word))\n",
        "print(\"The Top 10 words that predict rotten : \\n{}\".format(top_rotten_word))"
      ],
      "metadata": {
        "colab": {
          "base_uri": "https://localhost:8080/"
        },
        "id": "206eWzJq9kHG",
        "outputId": "7b58f570-9e7e-4a65-a7d1-418358df7f25"
      },
      "execution_count": 127,
      "outputs": [
        {
          "output_type": "stream",
          "name": "stdout",
          "text": [
            "The Top 10 words that predict fresh : \n",
            "['cannily', 'pasi', 'ganet', 'trammell', 'protectiveness', 'enrapturing', 'elongate', 'jollied', 'raggy', 'kogonada']\n",
            "The Top 10 words that predict rotten : \n",
            "['revoked', 'ignominious', 'desecration', 'anthill', 'turgidly', 'ineptness', 'incurious', 'lumley', 'milling', 'overscored']\n"
          ]
        }
      ]
    }
  ]
}